{
 "cells": [
  {
   "cell_type": "markdown",
   "id": "da1b946b",
   "metadata": {},
   "source": [
    "# Beer scraper - Zé Delivery\n",
    "\n",
    "This project scrapes beer prices and other info from the delivery website \"Zé Delivery\", and returns the cheapest option possible, subject to constraints defined by the user."
   ]
  },
  {
   "cell_type": "markdown",
   "id": "d1128321",
   "metadata": {},
   "source": [
    "# Imports"
   ]
  },
  {
   "cell_type": "code",
   "execution_count": 1,
   "id": "89d222fc",
   "metadata": {},
   "outputs": [],
   "source": [
    "import requests\n",
    "from bs4 import BeautifulSoup\n",
    "from selenium import webdriver\n",
    "from selenium.webdriver.chrome.options import Options\n",
    "import time\n",
    "from unidecode import unidecode\n",
    "\n",
    "import pandas as pd\n",
    "import numpy as np\n",
    "import re"
   ]
  },
  {
   "cell_type": "markdown",
   "id": "ed7beab2",
   "metadata": {},
   "source": [
    "# Auxiliary functions"
   ]
  },
  {
   "cell_type": "code",
   "execution_count": 2,
   "id": "6fc67e10",
   "metadata": {},
   "outputs": [],
   "source": [
    "# This function creates the url string for a particular brand\n",
    "def get_url(brand):\n",
    "    root_url = 'https://www.ze.delivery/produtos/marca/'\n",
    "    brand = brand.lower()\n",
    "    brand = unidecode(brand)\n",
    "    brand = brand.replace(\"'\", \"\")\n",
    "    brand = brand.replace(\" \", \"-\")\n",
    "    return root_url+brand"
   ]
  },
  {
   "cell_type": "code",
   "execution_count": 3,
   "id": "e0e36841",
   "metadata": {},
   "outputs": [],
   "source": [
    "# This function takes the price in the format that it is found in the HTML, and convert to a float.\n",
    "def handle_price(price):\n",
    "    price = price.text[3:]\n",
    "    price = price.replace(',','.')\n",
    "    return float(price)"
   ]
  },
  {
   "cell_type": "code",
   "execution_count": 4,
   "id": "338e1b60",
   "metadata": {},
   "outputs": [],
   "source": [
    "# This function get the number of mls in a product\n",
    "def get_mls(product):\n",
    "    pattern1 = r\"(\\d+)ml\"\n",
    "    pattern2 = r\"(\\d*\\.*\\d+)L\"\n",
    "    try:\n",
    "        ml = float(re.findall(pattern1, product)[0])\n",
    "    except:\n",
    "        try:\n",
    "            ml = int(float(re.findall(pattern2, product)[0])*1000)\n",
    "        except:\n",
    "            ml = np.nan\n",
    "    return ml"
   ]
  },
  {
   "cell_type": "code",
   "execution_count": 5,
   "id": "76bd92bb",
   "metadata": {},
   "outputs": [],
   "source": [
    "# This function checks if the product is returnable, by looking at its name\n",
    "def is_returnable(product):\n",
    "    if product.find('Apenas o ') == -1:\n",
    "        return 'No'\n",
    "    return 'Yes'"
   ]
  },
  {
   "cell_type": "markdown",
   "id": "53fa2fc6",
   "metadata": {},
   "source": [
    "# Class"
   ]
  },
  {
   "cell_type": "code",
   "execution_count": 6,
   "id": "ec065116",
   "metadata": {},
   "outputs": [],
   "source": [
    "class BeerScraper:\n",
    "    def __init__(self):\n",
    "        self.driver = None\n",
    "        self.email = None\n",
    "        self.password = None\n",
    "        self.available_brands = []\n",
    "        self.prices = []\n",
    "        self.products = []\n",
    "        self.brands = []\n",
    "        self.df = None\n",
    "        # Filters\n",
    "        self.wanted_brands = []\n",
    "        self.unwanted_brands = []\n",
    "        self.returnable = ['Yes','No']\n",
    "        self.max_mls = 99999\n",
    "        self.filtered_df = None\n",
    "        \n",
    "    def build_driver(self):\n",
    "        options = Options()\n",
    "        options.add_argument('--headless')\n",
    "        options.add_argument('--disable-gpu')\n",
    "        self.driver = webdriver.Chrome(options=options)\n",
    "    \n",
    "    def login(self):\n",
    "        # Login details\n",
    "        login_url = 'https://www.ze.delivery/conta/entrar'\n",
    "        self.email = \"brunoprates@poli.ufrj.br\" ############### Mudar depois\n",
    "        self.password = \"ze123456\"\n",
    "        \n",
    "        # Enter login details in form\n",
    "        self.driver.get(login_url)\n",
    "        self.driver.implicitly_wait(6)\n",
    "        self.driver.find_element_by_xpath(\"\"\"//*[@id=\"login-mail-input-email\"]\"\"\").send_keys(self.email)\n",
    "        self.driver.find_element_by_xpath(\"\"\"//*[@id=\"login-mail-input-password\"]\"\"\").send_keys(self.password)\n",
    "\n",
    "        # Press sign in button\n",
    "        button = self.driver.find_element_by_xpath(\"\"\"//*[@id=\"login-mail-button-sign-in\"]\"\"\")\n",
    "        self.driver.execute_script(\"arguments[0].click();\", button)\n",
    "        time.sleep(3) # Wait a couple seconds to complete the sign in\n",
    "        \n",
    "    def get_available_brands(self):\n",
    "        url_brands = 'https://www.ze.delivery/produtos/categoria/cervejas'\n",
    "        self.driver.get(url_brands)\n",
    "        soup = BeautifulSoup(self.driver.page_source, \"html.parser\")\n",
    "        available_brands_html = soup.find_all(\"h2\", class_=\"css-l9heuk-shelfTitle\")\n",
    "        self.available_brands = [brand_html.text for brand_html in available_brands_html]\n",
    "        \n",
    "    def scrape_data(self):\n",
    "        for brand in self.available_brands:\n",
    "            #Get page HTML\n",
    "            url = get_url(brand)\n",
    "            self.driver.get(url)\n",
    "            soup = BeautifulSoup(self.driver.page_source, \"html.parser\")\n",
    "            \n",
    "            #Find products and add to instance variable\n",
    "            products_html = soup.find_all(\"h3\", class_=\"css-krg860-productTitle\")\n",
    "            for product in products_html:\n",
    "                self.products.append(product.text)\n",
    "            \n",
    "            #Find prices and add to instance variable.\n",
    "            prices_html = soup.find_all(\"div\", class_=\"css-t89dhz-priceText\")\n",
    "            for price in prices_html:\n",
    "                self.prices.append(handle_price(price))\n",
    "                self.brands.append(brand) # Leverage the for loop to include brand names\n",
    "    \n",
    "    def create_df(self):\n",
    "        self.df = pd.DataFrame(list(zip(self.products,self.prices,self.brands)),columns=['Product','Price','Brand'])\n",
    "        self.df['Mls'] = self.df['Product'].map(get_mls)\n",
    "        self.df['Price Per Liter'] = self.df['Price']/self.df['Mls']*1000\n",
    "        self.df['Returnable'] = self.df['Product'].map(is_returnable)\n",
    "        # Sort\n",
    "        self.df = self.df.sort_values('Price Per Liter')\n",
    "    \n",
    "    def set_filters(self,wb=[],ub=[],r=['Yes','No'],mm=99999):\n",
    "        self.wanted_brands = wb\n",
    "        self.unwanted_brands = ub\n",
    "        self.returnable = r\n",
    "        self.max_mls = mm\n",
    "        \n",
    "    def apply_filters(self):\n",
    "        # Conditions\n",
    "        c0 = self.df['Brand'].isin(self.wanted_brands) if len(self.wanted_brands)>0 else self.df['Brand']==self.df['Brand']\n",
    "        c1 = np.logical_not(self.df['Brand'].isin(self.unwanted_brands))\n",
    "        c2 = self.df['Returnable'].isin(self.returnable)\n",
    "        c3 = self.df['Mls']<=self.max_mls\n",
    "        combined_cond = c0&c1&c2&c3\n",
    "        # Apply condition\n",
    "        self.filtered_df = self.df[combined_cond]"
   ]
  },
  {
   "cell_type": "markdown",
   "id": "ef8ae497",
   "metadata": {},
   "source": [
    "# Getting data"
   ]
  },
  {
   "cell_type": "code",
   "execution_count": 7,
   "id": "ddbaec12",
   "metadata": {},
   "outputs": [],
   "source": [
    "beer_scraper = BeerScraper()"
   ]
  },
  {
   "cell_type": "code",
   "execution_count": 8,
   "id": "c51f43fd",
   "metadata": {},
   "outputs": [
    {
     "name": "stdout",
     "output_type": "stream",
     "text": [
      "CPU times: user 22.8 ms, sys: 1.38 ms, total: 24.2 ms\n",
      "Wall time: 1.46 s\n"
     ]
    }
   ],
   "source": [
    "%%time\n",
    "beer_scraper.build_driver()"
   ]
  },
  {
   "cell_type": "code",
   "execution_count": 9,
   "id": "f52e409b",
   "metadata": {},
   "outputs": [
    {
     "name": "stdout",
     "output_type": "stream",
     "text": [
      "CPU times: user 23 ms, sys: 7.18 ms, total: 30.2 ms\n",
      "Wall time: 7.69 s\n"
     ]
    }
   ],
   "source": [
    "%%time\n",
    "beer_scraper.login()"
   ]
  },
  {
   "cell_type": "code",
   "execution_count": 10,
   "id": "a01e7538",
   "metadata": {},
   "outputs": [
    {
     "name": "stdout",
     "output_type": "stream",
     "text": [
      "CPU times: user 302 ms, sys: 48.7 ms, total: 351 ms\n",
      "Wall time: 13.1 s\n"
     ]
    }
   ],
   "source": [
    "%%time\n",
    "beer_scraper.get_available_brands()"
   ]
  },
  {
   "cell_type": "code",
   "execution_count": 11,
   "id": "c70791b5",
   "metadata": {},
   "outputs": [
    {
     "name": "stdout",
     "output_type": "stream",
     "text": [
      "CPU times: user 1.4 s, sys: 33.8 ms, total: 1.43 s\n",
      "Wall time: 1min 47s\n"
     ]
    }
   ],
   "source": [
    "%%time\n",
    "beer_scraper.scrape_data()"
   ]
  },
  {
   "cell_type": "code",
   "execution_count": 12,
   "id": "ea2c184b",
   "metadata": {},
   "outputs": [
    {
     "name": "stdout",
     "output_type": "stream",
     "text": [
      "CPU times: user 26.7 ms, sys: 2.2 ms, total: 28.9 ms\n",
      "Wall time: 23.4 ms\n"
     ]
    }
   ],
   "source": [
    "%%time\n",
    "beer_scraper.create_df()\n",
    "beer_scraper.set_filters()\n",
    "beer_scraper.apply_filters()"
   ]
  },
  {
   "cell_type": "code",
   "execution_count": 13,
   "id": "dac9b19c",
   "metadata": {},
   "outputs": [
    {
     "data": {
      "text/html": [
       "<div>\n",
       "<style scoped>\n",
       "    .dataframe tbody tr th:only-of-type {\n",
       "        vertical-align: middle;\n",
       "    }\n",
       "\n",
       "    .dataframe tbody tr th {\n",
       "        vertical-align: top;\n",
       "    }\n",
       "\n",
       "    .dataframe thead th {\n",
       "        text-align: right;\n",
       "    }\n",
       "</style>\n",
       "<table border=\"1\" class=\"dataframe\">\n",
       "  <thead>\n",
       "    <tr style=\"text-align: right;\">\n",
       "      <th></th>\n",
       "      <th>Product</th>\n",
       "      <th>Price</th>\n",
       "      <th>Brand</th>\n",
       "      <th>Mls</th>\n",
       "      <th>Price Per Liter</th>\n",
       "      <th>Returnable</th>\n",
       "    </tr>\n",
       "  </thead>\n",
       "  <tbody>\n",
       "    <tr>\n",
       "      <th>37</th>\n",
       "      <td>Antarctica Subzero 473ml</td>\n",
       "      <td>2.69</td>\n",
       "      <td>Antarctica</td>\n",
       "      <td>473.0</td>\n",
       "      <td>5.687104</td>\n",
       "      <td>No</td>\n",
       "    </tr>\n",
       "    <tr>\n",
       "      <th>34</th>\n",
       "      <td>Antarctica Pilsen 1L | Apenas o líquido</td>\n",
       "      <td>6.09</td>\n",
       "      <td>Antarctica</td>\n",
       "      <td>1000.0</td>\n",
       "      <td>6.090000</td>\n",
       "      <td>Yes</td>\n",
       "    </tr>\n",
       "    <tr>\n",
       "      <th>17</th>\n",
       "      <td>Skol 473ml</td>\n",
       "      <td>2.99</td>\n",
       "      <td>Skol</td>\n",
       "      <td>473.0</td>\n",
       "      <td>6.321353</td>\n",
       "      <td>No</td>\n",
       "    </tr>\n",
       "    <tr>\n",
       "      <th>22</th>\n",
       "      <td>Skol Puro Malte 350ml</td>\n",
       "      <td>2.29</td>\n",
       "      <td>Skol</td>\n",
       "      <td>350.0</td>\n",
       "      <td>6.542857</td>\n",
       "      <td>No</td>\n",
       "    </tr>\n",
       "    <tr>\n",
       "      <th>19</th>\n",
       "      <td>Skol 350ml</td>\n",
       "      <td>2.29</td>\n",
       "      <td>Skol</td>\n",
       "      <td>350.0</td>\n",
       "      <td>6.542857</td>\n",
       "      <td>No</td>\n",
       "    </tr>\n",
       "    <tr>\n",
       "      <th>...</th>\n",
       "      <td>...</td>\n",
       "      <td>...</td>\n",
       "      <td>...</td>\n",
       "      <td>...</td>\n",
       "      <td>...</td>\n",
       "      <td>...</td>\n",
       "    </tr>\n",
       "    <tr>\n",
       "      <th>74</th>\n",
       "      <td>Wäls Trippel 375ml</td>\n",
       "      <td>19.99</td>\n",
       "      <td>Wäls</td>\n",
       "      <td>375.0</td>\n",
       "      <td>53.306667</td>\n",
       "      <td>No</td>\n",
       "    </tr>\n",
       "    <tr>\n",
       "      <th>123</th>\n",
       "      <td>Overhop Imperial IPA 500ml</td>\n",
       "      <td>26.90</td>\n",
       "      <td>Overhop</td>\n",
       "      <td>500.0</td>\n",
       "      <td>53.800000</td>\n",
       "      <td>No</td>\n",
       "    </tr>\n",
       "    <tr>\n",
       "      <th>108</th>\n",
       "      <td>Hocus Pocus IPA com Abacaxi 500ml</td>\n",
       "      <td>26.90</td>\n",
       "      <td>Hocus Pocus</td>\n",
       "      <td>500.0</td>\n",
       "      <td>53.800000</td>\n",
       "      <td>No</td>\n",
       "    </tr>\n",
       "    <tr>\n",
       "      <th>107</th>\n",
       "      <td>Hocus Pocus IPA 500ml</td>\n",
       "      <td>27.90</td>\n",
       "      <td>Hocus Pocus</td>\n",
       "      <td>500.0</td>\n",
       "      <td>55.800000</td>\n",
       "      <td>No</td>\n",
       "    </tr>\n",
       "    <tr>\n",
       "      <th>87</th>\n",
       "      <td>Goose Island Sofie 355ml</td>\n",
       "      <td>20.99</td>\n",
       "      <td>Goose Island</td>\n",
       "      <td>355.0</td>\n",
       "      <td>59.126761</td>\n",
       "      <td>No</td>\n",
       "    </tr>\n",
       "  </tbody>\n",
       "</table>\n",
       "<p>134 rows × 6 columns</p>\n",
       "</div>"
      ],
      "text/plain": [
       "                                     Product  Price         Brand     Mls  \\\n",
       "37                  Antarctica Subzero 473ml   2.69    Antarctica   473.0   \n",
       "34   Antarctica Pilsen 1L | Apenas o líquido   6.09    Antarctica  1000.0   \n",
       "17                                Skol 473ml   2.99          Skol   473.0   \n",
       "22                     Skol Puro Malte 350ml   2.29          Skol   350.0   \n",
       "19                                Skol 350ml   2.29          Skol   350.0   \n",
       "..                                       ...    ...           ...     ...   \n",
       "74                        Wäls Trippel 375ml  19.99          Wäls   375.0   \n",
       "123               Overhop Imperial IPA 500ml  26.90       Overhop   500.0   \n",
       "108        Hocus Pocus IPA com Abacaxi 500ml  26.90   Hocus Pocus   500.0   \n",
       "107                    Hocus Pocus IPA 500ml  27.90   Hocus Pocus   500.0   \n",
       "87                  Goose Island Sofie 355ml  20.99  Goose Island   355.0   \n",
       "\n",
       "     Price Per Liter Returnable  \n",
       "37          5.687104         No  \n",
       "34          6.090000        Yes  \n",
       "17          6.321353         No  \n",
       "22          6.542857         No  \n",
       "19          6.542857         No  \n",
       "..               ...        ...  \n",
       "74         53.306667         No  \n",
       "123        53.800000         No  \n",
       "108        53.800000         No  \n",
       "107        55.800000         No  \n",
       "87         59.126761         No  \n",
       "\n",
       "[134 rows x 6 columns]"
      ]
     },
     "execution_count": 13,
     "metadata": {},
     "output_type": "execute_result"
    }
   ],
   "source": [
    "beer_scraper.filtered_df"
   ]
  },
  {
   "cell_type": "markdown",
   "id": "244bcd77",
   "metadata": {},
   "source": [
    "# Improving scraping time"
   ]
  },
  {
   "cell_type": "markdown",
   "id": "42390a64",
   "metadata": {},
   "source": [
    "As we can see above, it takes around 2 minutes to scrape the website, get all the data, and create the dataframe. This is far too long and most users would not like to wait all this time to get an answer on what is the cheapest beer.\n",
    "\n",
    "We can improve this time by investigating what step is taking the longest. By using the '%%time' magic command, we can see that the 'scrape_data' method is responsible for almost all that time (1m48s). This is because we are doing several get requests, one for each available brand.\n",
    "\n",
    "As the main goal of this program is to find cheap beers, we can assume that most users won't be interested in the high-end, premium beers. So we can filter out the most expensive brands by default, thus reducing the scrape time."
   ]
  },
  {
   "cell_type": "markdown",
   "id": "cae978e2",
   "metadata": {},
   "source": [
    "#### Filtering out most expensive brands"
   ]
  },
  {
   "cell_type": "markdown",
   "id": "d19c486b",
   "metadata": {},
   "source": [
    "In order to filter out brands, it is necessary to define some subjective criteria. I choose to keep only the brands that have at least one beer that is within three times the price of the overall cheapest beer (in Price per Liter). In other words, if the cheapest beer of a particular brand is three times more expensive than the cheapest beer you can possibly get, we can assume that this is an expensive premium brand, and by deafult, we will not include it in our dataframe."
   ]
  },
  {
   "cell_type": "code",
   "execution_count": 14,
   "id": "f7eed7a6",
   "metadata": {},
   "outputs": [],
   "source": [
    "df = beer_scraper.df"
   ]
  },
  {
   "cell_type": "code",
   "execution_count": 15,
   "id": "ddb0ad87",
   "metadata": {},
   "outputs": [
    {
     "data": {
      "text/html": [
       "<div>\n",
       "<style scoped>\n",
       "    .dataframe tbody tr th:only-of-type {\n",
       "        vertical-align: middle;\n",
       "    }\n",
       "\n",
       "    .dataframe tbody tr th {\n",
       "        vertical-align: top;\n",
       "    }\n",
       "\n",
       "    .dataframe thead th {\n",
       "        text-align: right;\n",
       "    }\n",
       "</style>\n",
       "<table border=\"1\" class=\"dataframe\">\n",
       "  <thead>\n",
       "    <tr style=\"text-align: right;\">\n",
       "      <th></th>\n",
       "      <th>Price Per Liter</th>\n",
       "    </tr>\n",
       "    <tr>\n",
       "      <th>Brand</th>\n",
       "      <th></th>\n",
       "    </tr>\n",
       "  </thead>\n",
       "  <tbody>\n",
       "    <tr>\n",
       "      <th>Antarctica</th>\n",
       "      <td>5.687104</td>\n",
       "    </tr>\n",
       "    <tr>\n",
       "      <th>Skol</th>\n",
       "      <td>6.321353</td>\n",
       "    </tr>\n",
       "    <tr>\n",
       "      <th>Brahma</th>\n",
       "      <td>7.090000</td>\n",
       "    </tr>\n",
       "    <tr>\n",
       "      <th>Bohemia</th>\n",
       "      <td>7.685714</td>\n",
       "    </tr>\n",
       "    <tr>\n",
       "      <th>Budweiser</th>\n",
       "      <td>9.069767</td>\n",
       "    </tr>\n",
       "    <tr>\n",
       "      <th>Serramalte</th>\n",
       "      <td>9.114286</td>\n",
       "    </tr>\n",
       "    <tr>\n",
       "      <th>Original</th>\n",
       "      <td>9.114286</td>\n",
       "    </tr>\n",
       "    <tr>\n",
       "      <th>Caracu</th>\n",
       "      <td>10.828571</td>\n",
       "    </tr>\n",
       "    <tr>\n",
       "      <th>Stella Artois</th>\n",
       "      <td>11.115242</td>\n",
       "    </tr>\n",
       "    <tr>\n",
       "      <th>Beck's</th>\n",
       "      <td>12.828571</td>\n",
       "    </tr>\n",
       "    <tr>\n",
       "      <th>Colorado</th>\n",
       "      <td>14.257143</td>\n",
       "    </tr>\n",
       "    <tr>\n",
       "      <th>Wäls</th>\n",
       "      <td>15.464789</td>\n",
       "    </tr>\n",
       "    <tr>\n",
       "      <th>Corona</th>\n",
       "      <td>16.636364</td>\n",
       "    </tr>\n",
       "    <tr>\n",
       "      <th>Cervejaria Bohemia</th>\n",
       "      <td>19.000000</td>\n",
       "    </tr>\n",
       "    <tr>\n",
       "      <th>Hoegaarden</th>\n",
       "      <td>20.408922</td>\n",
       "    </tr>\n",
       "    <tr>\n",
       "      <th>Farra Bier</th>\n",
       "      <td>20.571429</td>\n",
       "    </tr>\n",
       "    <tr>\n",
       "      <th>Patagonia</th>\n",
       "      <td>21.608108</td>\n",
       "    </tr>\n",
       "    <tr>\n",
       "      <th>Noi</th>\n",
       "      <td>23.943662</td>\n",
       "    </tr>\n",
       "    <tr>\n",
       "      <th>Flamingo</th>\n",
       "      <td>24.833333</td>\n",
       "    </tr>\n",
       "    <tr>\n",
       "      <th>Motim</th>\n",
       "      <td>27.464789</td>\n",
       "    </tr>\n",
       "    <tr>\n",
       "      <th>Goose Island</th>\n",
       "      <td>28.140845</td>\n",
       "    </tr>\n",
       "    <tr>\n",
       "      <th>Kona</th>\n",
       "      <td>29.549296</td>\n",
       "    </tr>\n",
       "    <tr>\n",
       "      <th>Overhop</th>\n",
       "      <td>29.833333</td>\n",
       "    </tr>\n",
       "    <tr>\n",
       "      <th>Hocus Pocus</th>\n",
       "      <td>35.800000</td>\n",
       "    </tr>\n",
       "    <tr>\n",
       "      <th>Leffe</th>\n",
       "      <td>36.333333</td>\n",
       "    </tr>\n",
       "    <tr>\n",
       "      <th>Three Monkeys</th>\n",
       "      <td>38.400000</td>\n",
       "    </tr>\n",
       "    <tr>\n",
       "      <th>Franziskaner</th>\n",
       "      <td>39.800000</td>\n",
       "    </tr>\n",
       "  </tbody>\n",
       "</table>\n",
       "</div>"
      ],
      "text/plain": [
       "                    Price Per Liter\n",
       "Brand                              \n",
       "Antarctica                 5.687104\n",
       "Skol                       6.321353\n",
       "Brahma                     7.090000\n",
       "Bohemia                    7.685714\n",
       "Budweiser                  9.069767\n",
       "Serramalte                 9.114286\n",
       "Original                   9.114286\n",
       "Caracu                    10.828571\n",
       "Stella Artois             11.115242\n",
       "Beck's                    12.828571\n",
       "Colorado                  14.257143\n",
       "Wäls                      15.464789\n",
       "Corona                    16.636364\n",
       "Cervejaria Bohemia        19.000000\n",
       "Hoegaarden                20.408922\n",
       "Farra Bier                20.571429\n",
       "Patagonia                 21.608108\n",
       "Noi                       23.943662\n",
       "Flamingo                  24.833333\n",
       "Motim                     27.464789\n",
       "Goose Island              28.140845\n",
       "Kona                      29.549296\n",
       "Overhop                   29.833333\n",
       "Hocus Pocus               35.800000\n",
       "Leffe                     36.333333\n",
       "Three Monkeys             38.400000\n",
       "Franziskaner              39.800000"
      ]
     },
     "execution_count": 15,
     "metadata": {},
     "output_type": "execute_result"
    }
   ],
   "source": [
    "# Rank the brands by their cheapest beer (in Price Per Liter)\n",
    "df_ranked = df[['Brand','Price Per Liter']].groupby(by=['Brand']).min().sort_values('Price Per Liter')\n",
    "df_ranked"
   ]
  },
  {
   "cell_type": "code",
   "execution_count": 16,
   "id": "4f9f37f5",
   "metadata": {},
   "outputs": [
    {
     "data": {
      "text/plain": [
       "5.687103594080338"
      ]
     },
     "execution_count": 16,
     "metadata": {},
     "output_type": "execute_result"
    }
   ],
   "source": [
    "# Get the cheapest beer, in Price Per Liter\n",
    "cheapest_beer_price = df_ranked.iloc[0]['Price Per Liter']\n",
    "cheapest_beer_price"
   ]
  },
  {
   "cell_type": "code",
   "execution_count": 17,
   "id": "19f4f2bd",
   "metadata": {},
   "outputs": [
    {
     "data": {
      "text/plain": [
       "17.061310782241016"
      ]
     },
     "execution_count": 17,
     "metadata": {},
     "output_type": "execute_result"
    }
   ],
   "source": [
    "# Define the threshold for the max price of the brands cheapest beer. If it is above this, the brand is considered expensive\n",
    "threshold = cheapest_beer_price*3\n",
    "threshold"
   ]
  },
  {
   "cell_type": "code",
   "execution_count": 18,
   "id": "dfae467e",
   "metadata": {},
   "outputs": [],
   "source": [
    "expensive_brands = list(df_ranked[df_ranked['Price Per Liter']> threshold].index)"
   ]
  },
  {
   "cell_type": "code",
   "execution_count": 19,
   "id": "e9d70227",
   "metadata": {},
   "outputs": [
    {
     "data": {
      "text/plain": [
       "['Cervejaria Bohemia',\n",
       " 'Hoegaarden',\n",
       " 'Farra Bier',\n",
       " 'Patagonia',\n",
       " 'Noi',\n",
       " 'Flamingo',\n",
       " 'Motim',\n",
       " 'Goose Island',\n",
       " 'Kona',\n",
       " 'Overhop',\n",
       " 'Hocus Pocus',\n",
       " 'Leffe',\n",
       " 'Three Monkeys',\n",
       " 'Franziskaner']"
      ]
     },
     "execution_count": 19,
     "metadata": {},
     "output_type": "execute_result"
    }
   ],
   "source": [
    "list(expensive_brands)"
   ]
  },
  {
   "cell_type": "code",
   "execution_count": 21,
   "id": "b4529b5b",
   "metadata": {},
   "outputs": [
    {
     "name": "stdout",
     "output_type": "stream",
     "text": [
      "In the time this analysis was made, from the 29 brands available in the website, 14 were considered expensive.\n",
      "This means we can expect the time spent in the \"scrape_data\" function to reduce by half (approx.) when\n",
      "removing the expensive brands.\n",
      "\n"
     ]
    }
   ],
   "source": [
    "print(f'''In the time this analysis was made, from the {len(beer_scraper.available_brands)} brands available in the website, {len(expensive_brands)} were considered expensive.\n",
    "This means we can expect the time spent in the \"scrape_data\" function to reduce by half (approx.) when\n",
    "removing the expensive brands.\n",
    "''')"
   ]
  },
  {
   "cell_type": "markdown",
   "id": "e493f538",
   "metadata": {},
   "source": [
    "#### Limitations"
   ]
  },
  {
   "cell_type": "markdown",
   "id": "fdc371b4",
   "metadata": {},
   "source": [
    "This analisys was based in a snapshot of the beers available at a fixed date (13/05/2021). The beer prices change overtime, and there are ocasional discounts, so it is possible that one of the brands that was labeled as \"expensive\" will eventually offer a beer that is within the defined threshold. However, by repeating this analysis a few times in different days and hours, the change was not very significant. Even if one of those brands can eventually offer a cheaper beer, its price can never compete with the cheapest brands."
   ]
  },
  {
   "cell_type": "markdown",
   "id": "e1aa8ca2",
   "metadata": {},
   "source": [
    "# Improved Class"
   ]
  },
  {
   "cell_type": "markdown",
   "id": "e8f15f2d",
   "metadata": {},
   "source": [
    "Let's change the class and run the scraper again, to see how the perfomance changes."
   ]
  },
  {
   "cell_type": "code",
   "execution_count": 22,
   "id": "57803f4c",
   "metadata": {},
   "outputs": [],
   "source": [
    "class BeerScraperImproved:\n",
    "    def __init__(self):\n",
    "        self.driver = None\n",
    "        self.email = None\n",
    "        self.password = None\n",
    "        self.available_brands = []\n",
    "        self.prices = []\n",
    "        self.products = []\n",
    "        self.brands = []\n",
    "        self.df = None\n",
    "        self.expensive_brands = ['Cervejaria Bohemia','Hoegaarden','Farra Bier','Patagonia','Noi','Flamingo','Wäls','Motim',\n",
    "                                 'Goose Island','Kona','Overhop','Hocus Pocus','Leffe','Three Monkeys','Franziskaner']\n",
    "        # Filters\n",
    "        self.wanted_brands = []\n",
    "        self.unwanted_brands = []\n",
    "        self.returnable = ['Yes','No']\n",
    "        self.max_mls = 99999\n",
    "        self.filtered_df = None\n",
    "        \n",
    "    def build_driver(self):\n",
    "        options = Options()\n",
    "        options.add_argument('--headless')\n",
    "        options.add_argument('--disable-gpu')\n",
    "        self.driver = webdriver.Chrome(options=options)\n",
    "    \n",
    "    def login(self):\n",
    "        # Login details\n",
    "        login_url = 'https://www.ze.delivery/conta/entrar'\n",
    "        self.email = \"brunoprates@poli.ufrj.br\" ############### Mudar depois\n",
    "        self.password = \"ze123456\"\n",
    "        \n",
    "        # Enter login details in form\n",
    "        self.driver.get(login_url)\n",
    "        self.driver.implicitly_wait(6)\n",
    "        self.driver.find_element_by_xpath(\"\"\"//*[@id=\"login-mail-input-email\"]\"\"\").send_keys(self.email)\n",
    "        self.driver.find_element_by_xpath(\"\"\"//*[@id=\"login-mail-input-password\"]\"\"\").send_keys(self.password)\n",
    "\n",
    "        # Press sign in button\n",
    "        button = self.driver.find_element_by_xpath(\"\"\"//*[@id=\"login-mail-button-sign-in\"]\"\"\")\n",
    "        self.driver.execute_script(\"arguments[0].click();\", button)\n",
    "        time.sleep(3) # Wait a couple seconds to complete the sign in\n",
    "        \n",
    "    def get_available_brands(self):\n",
    "        url_brands = 'https://www.ze.delivery/produtos/categoria/cervejas'\n",
    "        self.driver.get(url_brands)\n",
    "        soup = BeautifulSoup(self.driver.page_source, \"html.parser\")\n",
    "        available_brands_html = soup.find_all(\"h2\", class_=\"css-l9heuk-shelfTitle\")\n",
    "        self.available_brands = [brand_html.text for brand_html in available_brands_html]\n",
    "        \n",
    "    def scrape_data(self):\n",
    "        for brand in self.available_brands:\n",
    "            if brand not in self.expensive_brands:\n",
    "                #Get page HTML\n",
    "                url = get_url(brand)\n",
    "                self.driver.get(url)\n",
    "                soup = BeautifulSoup(self.driver.page_source, \"html.parser\")\n",
    "\n",
    "                #Find products and add to instance variable\n",
    "                products_html = soup.find_all(\"h3\", class_=\"css-krg860-productTitle\")\n",
    "                for product in products_html:\n",
    "                    self.products.append(product.text)\n",
    "\n",
    "                #Find prices and add to instance variable.\n",
    "                prices_html = soup.find_all(\"div\", class_=\"css-t89dhz-priceText\")\n",
    "                for price in prices_html:\n",
    "                    self.prices.append(handle_price(price))\n",
    "                    self.brands.append(brand) # Leverage the for loop to include brand names\n",
    "    \n",
    "    def create_df(self):\n",
    "        self.df = pd.DataFrame(list(zip(self.products,self.prices,self.brands)),columns=['Product','Price','Brand'])\n",
    "        self.df['Mls'] = self.df['Product'].map(get_mls)\n",
    "        self.df['Price Per Liter'] = self.df['Price']/self.df['Mls']*1000\n",
    "        self.df['Returnable'] = self.df['Product'].map(is_returnable)\n",
    "        # Sort\n",
    "        self.df = self.df.sort_values('Price Per Liter')\n",
    "    \n",
    "    def set_filters(self,wb=[],ub=[],r=['Yes','No'],mm=99999):\n",
    "        self.wanted_brands = wb\n",
    "        self.unwanted_brands = ub\n",
    "        self.returnable = r\n",
    "        self.max_mls = mm\n",
    "        \n",
    "    def apply_filters(self):\n",
    "        # Conditions\n",
    "        c0 = self.df['Brand'].isin(self.wanted_brands) if len(self.wanted_brands)>0 else self.df['Brand']==self.df['Brand']\n",
    "        c1 = np.logical_not(self.df['Brand'].isin(self.unwanted_brands))\n",
    "        c2 = self.df['Returnable'].isin(self.returnable)\n",
    "        c3 = self.df['Mls']<=self.max_mls\n",
    "        combined_cond = c0&c1&c2&c3\n",
    "        # Apply condition\n",
    "        self.filtered_df = self.df[combined_cond]"
   ]
  },
  {
   "cell_type": "code",
   "execution_count": 23,
   "id": "40b811a4",
   "metadata": {},
   "outputs": [],
   "source": [
    "beer_scraper_2 = BeerScraperImproved()"
   ]
  },
  {
   "cell_type": "code",
   "execution_count": 24,
   "id": "0d06e114",
   "metadata": {},
   "outputs": [
    {
     "name": "stdout",
     "output_type": "stream",
     "text": [
      "CPU times: user 0 ns, sys: 30.9 ms, total: 30.9 ms\n",
      "Wall time: 228 ms\n"
     ]
    }
   ],
   "source": [
    "%%time\n",
    "beer_scraper_2.build_driver()"
   ]
  },
  {
   "cell_type": "code",
   "execution_count": 25,
   "id": "188650b8",
   "metadata": {},
   "outputs": [
    {
     "name": "stdout",
     "output_type": "stream",
     "text": [
      "CPU times: user 27 ms, sys: 0 ns, total: 27 ms\n",
      "Wall time: 6.43 s\n"
     ]
    }
   ],
   "source": [
    "%%time\n",
    "beer_scraper_2.login()"
   ]
  },
  {
   "cell_type": "code",
   "execution_count": 26,
   "id": "77fb3447",
   "metadata": {},
   "outputs": [
    {
     "name": "stdout",
     "output_type": "stream",
     "text": [
      "CPU times: user 222 ms, sys: 11.2 ms, total: 233 ms\n",
      "Wall time: 13.3 s\n"
     ]
    }
   ],
   "source": [
    "%%time\n",
    "beer_scraper_2.get_available_brands()"
   ]
  },
  {
   "cell_type": "code",
   "execution_count": 27,
   "id": "30dbdd33",
   "metadata": {},
   "outputs": [
    {
     "name": "stdout",
     "output_type": "stream",
     "text": [
      "CPU times: user 814 ms, sys: 10.3 ms, total: 825 ms\n",
      "Wall time: 51.5 s\n"
     ]
    }
   ],
   "source": [
    "%%time\n",
    "beer_scraper_2.scrape_data()"
   ]
  },
  {
   "cell_type": "code",
   "execution_count": 28,
   "id": "b7456e4a",
   "metadata": {},
   "outputs": [
    {
     "name": "stdout",
     "output_type": "stream",
     "text": [
      "CPU times: user 28.8 ms, sys: 2.38 ms, total: 31.2 ms\n",
      "Wall time: 22.9 ms\n"
     ]
    }
   ],
   "source": [
    "%%time\n",
    "beer_scraper_2.create_df()\n",
    "beer_scraper_2.set_filters()\n",
    "beer_scraper_2.apply_filters()"
   ]
  },
  {
   "cell_type": "markdown",
   "id": "ea573207",
   "metadata": {},
   "source": [
    "As expected, the 'scrape_data' function ran in about half of the original time. Running everything and getting the final dataframe still takes a bit more than 1 minute, which is quite long, but acceptable."
   ]
  },
  {
   "cell_type": "markdown",
   "id": "1240fe9f",
   "metadata": {},
   "source": [
    "# To-do"
   ]
  },
  {
   "cell_type": "markdown",
   "id": "bfb38b25",
   "metadata": {},
   "source": [
    "- Choose address\n",
    "- Encrypt password"
   ]
  },
  {
   "cell_type": "code",
   "execution_count": null,
   "id": "c2cf3b02",
   "metadata": {},
   "outputs": [],
   "source": []
  }
 ],
 "metadata": {
  "kernelspec": {
   "display_name": "Python 3",
   "language": "python",
   "name": "python3"
  },
  "language_info": {
   "codemirror_mode": {
    "name": "ipython",
    "version": 3
   },
   "file_extension": ".py",
   "mimetype": "text/x-python",
   "name": "python",
   "nbconvert_exporter": "python",
   "pygments_lexer": "ipython3",
   "version": "3.8.6"
  }
 },
 "nbformat": 4,
 "nbformat_minor": 5
}
