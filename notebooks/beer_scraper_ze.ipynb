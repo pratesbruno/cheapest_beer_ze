{
 "cells": [
  {
   "cell_type": "markdown",
   "id": "81c0173e",
   "metadata": {},
   "source": [
    "# Beer scraper - Zé Delivery\n",
    "\n",
    "This project scrapes beer prices and other info from the delivery website \"Zé Delivery\", and returns the cheapest option possible, subject to constraints defined by the user."
   ]
  },
  {
   "cell_type": "markdown",
   "id": "cecec89a",
   "metadata": {},
   "source": [
    "# Imports"
   ]
  },
  {
   "cell_type": "code",
   "execution_count": 22,
   "id": "c449de64",
   "metadata": {},
   "outputs": [],
   "source": [
    "import requests\n",
    "from bs4 import BeautifulSoup\n",
    "from selenium import webdriver\n",
    "from selenium.webdriver.chrome.options import Options\n",
    "import time\n",
    "from unidecode import unidecode"
   ]
  },
  {
   "cell_type": "markdown",
   "id": "d24d5316",
   "metadata": {},
   "source": [
    "# Data Collection"
   ]
  },
  {
   "cell_type": "markdown",
   "id": "3916c0d7",
   "metadata": {},
   "source": [
    "### Build Driver"
   ]
  },
  {
   "cell_type": "code",
   "execution_count": 2,
   "id": "439a0ee8",
   "metadata": {},
   "outputs": [],
   "source": [
    "options = Options()\n",
    "options.add_argument('--headless')\n",
    "options.add_argument('--disable-gpu')\n",
    "driver = webdriver.Chrome(options=options)"
   ]
  },
  {
   "cell_type": "markdown",
   "id": "8b03d52b",
   "metadata": {},
   "source": [
    "### Login to website"
   ]
  },
  {
   "cell_type": "code",
   "execution_count": 3,
   "id": "1b0bd179",
   "metadata": {},
   "outputs": [],
   "source": [
    "# Login url\n",
    "login_url = 'https://www.ze.delivery/conta/entrar'"
   ]
  },
  {
   "cell_type": "code",
   "execution_count": 4,
   "id": "b13b9b83",
   "metadata": {},
   "outputs": [],
   "source": [
    "# Login details\n",
    "email = \"brunoprates@poli.ufrj.br\"\n",
    "password = \"ze123456\""
   ]
  },
  {
   "cell_type": "code",
   "execution_count": 5,
   "id": "9b149862",
   "metadata": {},
   "outputs": [],
   "source": [
    "# Enter login details in form\n",
    "driver.get(login_url)\n",
    "driver.implicitly_wait(6)\n",
    "driver.find_element_by_xpath(\"\"\"//*[@id=\"login-mail-input-email\"]\"\"\").send_keys(email)\n",
    "driver.find_element_by_xpath(\"\"\"//*[@id=\"login-mail-input-password\"]\"\"\").send_keys(password)\n",
    "\n",
    "# Press sign in button\n",
    "button = driver.find_element_by_xpath(\"\"\"//*[@id=\"login-mail-button-sign-in\"]\"\"\")\n",
    "driver.execute_script(\"arguments[0].click();\", button)\n",
    "time.sleep(3) # Wait a couple seconds to complete the sign in"
   ]
  },
  {
   "cell_type": "markdown",
   "id": "16a34008",
   "metadata": {},
   "source": [
    "### Get available brands"
   ]
  },
  {
   "cell_type": "code",
   "execution_count": 33,
   "id": "2749ec21",
   "metadata": {},
   "outputs": [],
   "source": [
    "url_brands = 'https://www.ze.delivery/produtos/categoria/cervejas'"
   ]
  },
  {
   "cell_type": "code",
   "execution_count": 17,
   "id": "9a7237fc",
   "metadata": {},
   "outputs": [],
   "source": [
    "driver.get(url_brands)\n",
    "soup = BeautifulSoup(driver.page_source, \"html.parser\")\n",
    "available_brands_html = soup.find_all(\"h2\", class_=\"css-l9heuk-shelfTitle\")\n",
    "available_brands = [brand_html.text for brand_html in available_brands_html]"
   ]
  },
  {
   "cell_type": "markdown",
   "id": "b853df1e",
   "metadata": {},
   "source": [
    "### Get urls to be scraped"
   ]
  },
  {
   "cell_type": "code",
   "execution_count": 45,
   "id": "935c96dc",
   "metadata": {},
   "outputs": [],
   "source": [
    "def get_url(brand):\n",
    "    root_url = 'https://www.ze.delivery/produtos/marca/'\n",
    "    brand = brand.lower()\n",
    "    brand = unidecode(brand)\n",
    "    brand = brand.replace(\"'\", \"\")\n",
    "    brand = brand.replace(\" \", \"-\")\n",
    "    return root_url+brand"
   ]
  },
  {
   "cell_type": "code",
   "execution_count": 37,
   "id": "8ceaad3f",
   "metadata": {
    "scrolled": true
   },
   "outputs": [],
   "source": [
    "root_url = 'https://www.ze.delivery/produtos/marca/'\n",
    "urls = []\n",
    "for brand in available_brands:\n",
    "    brand = brand.lower()\n",
    "    brand = unidecode(brand)\n",
    "    brand = brand.replace(\"'\", \"\")\n",
    "    brand = brand.replace(\" \", \"-\")\n",
    "    urls.append(root_url+brand)"
   ]
  },
  {
   "cell_type": "markdown",
   "id": "ddeaeed3",
   "metadata": {},
   "source": [
    "### Get beer details"
   ]
  },
  {
   "cell_type": "code",
   "execution_count": 6,
   "id": "bac65de5",
   "metadata": {},
   "outputs": [],
   "source": [
    "url = 'https://www.ze.delivery/produtos/marca/brahma'"
   ]
  },
  {
   "cell_type": "code",
   "execution_count": 76,
   "id": "863f2b0c",
   "metadata": {},
   "outputs": [],
   "source": [
    "def get_prices(prices_html):\n",
    "    prices = []\n",
    "    for price in prices_html:\n",
    "        price = price.text[3:]\n",
    "        price = price.replace(',','.')\n",
    "        prices.append(float(price))\n",
    "    return prices"
   ]
  },
  {
   "cell_type": "code",
   "execution_count": 77,
   "id": "5f5189db",
   "metadata": {},
   "outputs": [],
   "source": [
    "def get_beers_details(brand):\n",
    "    url = get_url(brand)\n",
    "    \n",
    "    driver.get(url)\n",
    "    soup = BeautifulSoup(driver.page_source, \"html.parser\")\n",
    "    \n",
    "    beers_prices_html = soup.find_all(\"div\", class_=\"css-t89dhz-priceText\")\n",
    "    prices = get_prices(beers_prices_html)\n",
    "    beer_names_html = soup.find_all(\"h3\", class_=\"css-krg860-productTitle\")\n",
    "    \n",
    "    return prices"
   ]
  },
  {
   "cell_type": "code",
   "execution_count": 80,
   "id": "ea899c4d",
   "metadata": {},
   "outputs": [],
   "source": [
    "prices = get_beers_details('Brahma')"
   ]
  },
  {
   "cell_type": "code",
   "execution_count": 85,
   "id": "08a653da",
   "metadata": {},
   "outputs": [
    {
     "data": {
      "text/plain": [
       "[2.39,\n",
       " 3.19,\n",
       " 6.89,\n",
       " 7.89,\n",
       " 3.59,\n",
       " 6.29,\n",
       " 7.29,\n",
       " 1.87,\n",
       " 3.39,\n",
       " 3.99,\n",
       " 6.49,\n",
       " 19.2,\n",
       " 7.09,\n",
       " 2.69,\n",
       " 3.29,\n",
       " 3.69,\n",
       " 3.29,\n",
       " 2.69]"
      ]
     },
     "execution_count": 85,
     "metadata": {},
     "output_type": "execute_result"
    }
   ],
   "source": [
    "prices"
   ]
  },
  {
   "cell_type": "code",
   "execution_count": 87,
   "id": "446637ec",
   "metadata": {},
   "outputs": [
    {
     "data": {
      "text/plain": [
       "6"
      ]
     },
     "execution_count": 87,
     "metadata": {},
     "output_type": "execute_result"
    }
   ],
   "source": [
    "len(beers_prices_html)"
   ]
  },
  {
   "cell_type": "code",
   "execution_count": 86,
   "id": "4cc87741",
   "metadata": {},
   "outputs": [
    {
     "data": {
      "text/plain": [
       "[<h3 class=\"css-krg860-productTitle\">Brahma Chopp 300ml | Apenas o Líquido</h3>,\n",
       " <h3 class=\"css-krg860-productTitle\">Brahma Duplo Malte 330ml</h3>,\n",
       " <h3 class=\"css-krg860-productTitle\">Brahma Duplo Malte 350ml</h3>,\n",
       " <h3 class=\"css-krg860-productTitle\">Brahma Duplo Malte 600ml | Apenas o Líquido</h3>,\n",
       " <h3 class=\"css-krg860-productTitle\">Brahma Duplo Malte 600ml | Vasilhame Incluso</h3>,\n",
       " <h3 class=\"css-krg860-productTitle\">Brahma Chopp 600ml | Apenas o Líquido - Unidade</h3>,\n",
       " <h3 class=\"css-krg860-productTitle\">Brahma Chopp 269ml</h3>,\n",
       " <h3 class=\"css-krg860-productTitle\">Brahma Chopp 1L | Apenas o Líquido - Unidade</h3>,\n",
       " <h3 class=\"css-krg860-productTitle\">Brahma Zero 350ml - Unidade</h3>,\n",
       " <h3 class=\"css-krg860-productTitle\">Brahma Zero 355ml</h3>,\n",
       " <h3 class=\"css-krg860-productTitle\">Brahma Extra Lager 600ml</h3>,\n",
       " <h3 class=\"css-krg860-productTitle\">Brahma Chopp 600ml | Vasilhame Incluso - Unidade</h3>,\n",
       " <h3 class=\"css-krg860-productTitle\">Brahma Chopp 350ml</h3>,\n",
       " <h3 class=\"css-krg860-productTitle\">Brahma Chopp 355ml - Unidade</h3>,\n",
       " <h3 class=\"css-krg860-productTitle\">Brahma Chopp 473ml</h3>,\n",
       " <h3 class=\"css-krg860-productTitle\">Brahma Malzbier 355ml</h3>,\n",
       " <h3 class=\"css-krg860-productTitle\">Brahma Malzbier 350ml</h3>]"
      ]
     },
     "execution_count": 86,
     "metadata": {},
     "output_type": "execute_result"
    }
   ],
   "source": [
    "beer_names_html"
   ]
  },
  {
   "cell_type": "code",
   "execution_count": 69,
   "id": "13f7ca8b",
   "metadata": {
    "scrolled": true
   },
   "outputs": [
    {
     "data": {
      "text/plain": [
       "[<div class=\"css-t89dhz-priceText\">R$ 27,90</div>,\n",
       " <div class=\"css-t89dhz-priceText\">R$ 26,90</div>,\n",
       " <div class=\"css-t89dhz-priceText\">R$ 17,90</div>,\n",
       " <div class=\"css-t89dhz-priceText\">R$ 18,90</div>,\n",
       " <div class=\"css-t89dhz-priceText\">R$ 24,90</div>,\n",
       " <div class=\"css-t89dhz-priceText\">R$ 23,90</div>]"
      ]
     },
     "execution_count": 69,
     "metadata": {},
     "output_type": "execute_result"
    }
   ],
   "source": [
    "beers_prices_html"
   ]
  },
  {
   "cell_type": "code",
   "execution_count": 68,
   "id": "af09127f",
   "metadata": {
    "scrolled": true
   },
   "outputs": [
    {
     "data": {
      "text/plain": [
       "'17,90'"
      ]
     },
     "execution_count": 68,
     "metadata": {},
     "output_type": "execute_result"
    }
   ],
   "source": [
    "beers_prices_html[2].text[3:]"
   ]
  },
  {
   "cell_type": "code",
   "execution_count": null,
   "id": "64de0389",
   "metadata": {},
   "outputs": [],
   "source": []
  },
  {
   "cell_type": "code",
   "execution_count": 9,
   "id": "b48d2278",
   "metadata": {},
   "outputs": [
    {
     "data": {
      "text/plain": [
       "[<h3 class=\"css-krg860-productTitle\">Brahma Chopp 300ml | Apenas o Líquido</h3>,\n",
       " <h3 class=\"css-krg860-productTitle\">Brahma Duplo Malte 330ml</h3>,\n",
       " <h3 class=\"css-krg860-productTitle\">Brahma Duplo Malte 350ml</h3>,\n",
       " <h3 class=\"css-krg860-productTitle\">Brahma Duplo Malte 600ml | Apenas o Líquido</h3>,\n",
       " <h3 class=\"css-krg860-productTitle\">Brahma Duplo Malte 600ml | Vasilhame Incluso</h3>,\n",
       " <h3 class=\"css-krg860-productTitle\">Brahma Chopp 600ml | Apenas o Líquido - Unidade</h3>,\n",
       " <h3 class=\"css-krg860-productTitle\">Brahma Chopp 269ml</h3>,\n",
       " <h3 class=\"css-krg860-productTitle\">Brahma Chopp 1L | Apenas o Líquido - Unidade</h3>,\n",
       " <h3 class=\"css-krg860-productTitle\">Brahma Zero 350ml - Unidade</h3>,\n",
       " <h3 class=\"css-krg860-productTitle\">Brahma Zero 355ml</h3>,\n",
       " <h3 class=\"css-krg860-productTitle\">Brahma Extra Lager 600ml</h3>,\n",
       " <h3 class=\"css-krg860-productTitle\">Brahma Chopp 600ml | Vasilhame Incluso - Unidade</h3>,\n",
       " <h3 class=\"css-krg860-productTitle\">Brahma Chopp 350ml</h3>,\n",
       " <h3 class=\"css-krg860-productTitle\">Brahma Chopp 355ml - Unidade</h3>,\n",
       " <h3 class=\"css-krg860-productTitle\">Brahma Chopp 473ml</h3>,\n",
       " <h3 class=\"css-krg860-productTitle\">Brahma Malzbier 355ml</h3>,\n",
       " <h3 class=\"css-krg860-productTitle\">Brahma Malzbier 350ml</h3>]"
      ]
     },
     "execution_count": 9,
     "metadata": {},
     "output_type": "execute_result"
    }
   ],
   "source": [
    "beer_names_html"
   ]
  },
  {
   "cell_type": "code",
   "execution_count": 41,
   "id": "e523519f",
   "metadata": {},
   "outputs": [
    {
     "data": {
      "text/plain": [
       "(3, 36)"
      ]
     },
     "execution_count": 41,
     "metadata": {},
     "output_type": "execute_result"
    }
   ],
   "source": []
  },
  {
   "cell_type": "code",
   "execution_count": null,
   "id": "bb394b42",
   "metadata": {},
   "outputs": [],
   "source": []
  }
 ],
 "metadata": {
  "kernelspec": {
   "display_name": "Python 3",
   "language": "python",
   "name": "python3"
  },
  "language_info": {
   "codemirror_mode": {
    "name": "ipython",
    "version": 3
   },
   "file_extension": ".py",
   "mimetype": "text/x-python",
   "name": "python",
   "nbconvert_exporter": "python",
   "pygments_lexer": "ipython3",
   "version": "3.8.6"
  }
 },
 "nbformat": 4,
 "nbformat_minor": 5
}
