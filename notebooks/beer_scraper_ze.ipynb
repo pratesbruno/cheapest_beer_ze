{
 "cells": [
  {
   "cell_type": "markdown",
   "id": "da1b946b",
   "metadata": {},
   "source": [
    "# Beer scraper - Zé Delivery\n",
    "\n",
    "This project scrapes beer prices and other info from the delivery website \"Zé Delivery\", and returns the cheapest option possible, subject to constraints defined by the user."
   ]
  },
  {
   "cell_type": "markdown",
   "id": "d1128321",
   "metadata": {},
   "source": [
    "# Imports"
   ]
  },
  {
   "cell_type": "code",
   "execution_count": 1,
   "id": "89d222fc",
   "metadata": {},
   "outputs": [],
   "source": [
    "import requests\n",
    "from bs4 import BeautifulSoup\n",
    "from selenium import webdriver\n",
    "from selenium.webdriver.chrome.options import Options\n",
    "import time\n",
    "from unidecode import unidecode\n",
    "\n",
    "import pandas as pd\n",
    "import numpy as np\n",
    "import re"
   ]
  },
  {
   "cell_type": "markdown",
   "id": "ed7beab2",
   "metadata": {},
   "source": [
    "# Auxiliary functions"
   ]
  },
  {
   "cell_type": "code",
   "execution_count": 2,
   "id": "6fc67e10",
   "metadata": {},
   "outputs": [],
   "source": [
    "# This function creates the url string for a particular brand\n",
    "def get_url(brand):\n",
    "    root_url = 'https://www.ze.delivery/produtos/marca/'\n",
    "    brand = brand.lower()\n",
    "    brand = unidecode(brand)\n",
    "    brand = brand.replace(\"'\", \"\")\n",
    "    brand = brand.replace(\" \", \"-\")\n",
    "    return root_url+brand"
   ]
  },
  {
   "cell_type": "code",
   "execution_count": 3,
   "id": "e0e36841",
   "metadata": {},
   "outputs": [],
   "source": [
    "# This function takes the price in the format that it is found in the HTML, and convert to a float.\n",
    "def handle_price(price):\n",
    "    price = price.text[3:]\n",
    "    price = price.replace(',','.')\n",
    "    return float(price)"
   ]
  },
  {
   "cell_type": "code",
   "execution_count": 4,
   "id": "338e1b60",
   "metadata": {},
   "outputs": [],
   "source": [
    "# This function get the number of mls in a product\n",
    "def get_mls(product):\n",
    "    pattern1 = r\"(\\d+)ml\"\n",
    "    pattern2 = r\"(\\d*\\.*\\d+)L\"\n",
    "    try:\n",
    "        ml = float(re.findall(pattern1, product)[0])\n",
    "    except:\n",
    "        try:\n",
    "            ml = int(float(re.findall(pattern2, product)[0])*1000)\n",
    "        except:\n",
    "            ml = np.nan\n",
    "    return ml"
   ]
  },
  {
   "cell_type": "code",
   "execution_count": 5,
   "id": "76bd92bb",
   "metadata": {},
   "outputs": [],
   "source": [
    "# This function checks if the product is returnable, by looking at its name\n",
    "def is_returnable(product):\n",
    "    if product.find('Apenas o ') == -1:\n",
    "        return 'No'\n",
    "    return 'Yes'"
   ]
  },
  {
   "cell_type": "markdown",
   "id": "53fa2fc6",
   "metadata": {},
   "source": [
    "# Class"
   ]
  },
  {
   "cell_type": "code",
   "execution_count": 6,
   "id": "ec065116",
   "metadata": {},
   "outputs": [],
   "source": [
    "class BeerScraper:\n",
    "    def __init__(self):\n",
    "        self.driver = None\n",
    "        self.email = None\n",
    "        self.password = None\n",
    "        self.available_brands = []\n",
    "        self.prices = []\n",
    "        self.products = []\n",
    "        self.brands = []\n",
    "        self.df = None\n",
    "        # Filters\n",
    "        self.wanted_brands = []\n",
    "        self.unwanted_brands = []\n",
    "        self.returnable = ['Yes','No']\n",
    "        self.max_mls = 99999\n",
    "        self.filtered_df = None\n",
    "        \n",
    "    def build_driver(self):\n",
    "        options = Options()\n",
    "        options.add_argument('--headless')\n",
    "        options.add_argument('--disable-gpu')\n",
    "        self.driver = webdriver.Chrome(options=options)\n",
    "    \n",
    "    def login(self):\n",
    "        # Login details\n",
    "        login_url = 'https://www.ze.delivery/conta/entrar'\n",
    "        self.email = \"brunoprates@poli.ufrj.br\" ############### Mudar depois\n",
    "        self.password = \"ze123456\"\n",
    "        \n",
    "        # Enter login details in form\n",
    "        self.driver.get(login_url)\n",
    "        self.driver.implicitly_wait(6)\n",
    "        self.driver.find_element_by_xpath(\"\"\"//*[@id=\"login-mail-input-email\"]\"\"\").send_keys(self.email)\n",
    "        self.driver.find_element_by_xpath(\"\"\"//*[@id=\"login-mail-input-password\"]\"\"\").send_keys(self.password)\n",
    "\n",
    "        # Press sign in button\n",
    "        button = self.driver.find_element_by_xpath(\"\"\"//*[@id=\"login-mail-button-sign-in\"]\"\"\")\n",
    "        self.driver.execute_script(\"arguments[0].click();\", button)\n",
    "        time.sleep(3) # Wait a couple seconds to complete the sign in\n",
    "        \n",
    "    def get_available_brands(self):\n",
    "        url_brands = 'https://www.ze.delivery/produtos/categoria/cervejas'\n",
    "        self.driver.get(url_brands)\n",
    "        soup = BeautifulSoup(self.driver.page_source, \"html.parser\")\n",
    "        available_brands_html = soup.find_all(\"h2\", class_=\"css-l9heuk-shelfTitle\")\n",
    "        self.available_brands = [brand_html.text for brand_html in available_brands_html]\n",
    "        \n",
    "    def scrape_data(self):\n",
    "        for brand in self.available_brands:\n",
    "            #Get page HTML\n",
    "            url = get_url(brand)\n",
    "            self.driver.get(url)\n",
    "            soup = BeautifulSoup(self.driver.page_source, \"html.parser\")\n",
    "            \n",
    "            #Find products and add to instance variable\n",
    "            products_html = soup.find_all(\"h3\", class_=\"css-krg860-productTitle\")\n",
    "            for product in products_html:\n",
    "                self.products.append(product.text)\n",
    "            \n",
    "            #Find prices and add to instance variable.\n",
    "            prices_html = soup.find_all(\"div\", class_=\"css-t89dhz-priceText\")\n",
    "            for price in prices_html:\n",
    "                self.prices.append(handle_price(price))\n",
    "                self.brands.append(brand) # Leverage the for loop to include brand names\n",
    "    \n",
    "    def create_df(self):\n",
    "        self.df = pd.DataFrame(list(zip(self.products,self.prices,self.brands)),columns=['Product','Price','Brand'])\n",
    "        self.df['Mls'] = self.df['Product'].map(get_mls)\n",
    "        self.df['Price Per Liter'] = self.df['Price']/self.df['Mls']*1000\n",
    "        self.df['Returnable'] = self.df['Product'].map(is_returnable)\n",
    "        # Sort\n",
    "        self.df = self.df.sort_values('Price Per Liter')\n",
    "    \n",
    "    def set_filters(self,wb=[],ub=[],r=['Yes','No'],mm=99999):\n",
    "        self.wanted_brands = wb\n",
    "        self.unwanted_brands = ub\n",
    "        self.returnable = r\n",
    "        self.max_mls = mm\n",
    "        \n",
    "    def apply_filters(self):\n",
    "        # Conditions\n",
    "        c0 = self.df['Brand'].isin(self.wanted_brands) if len(self.wanted_brands)>0 else self.df['Brand']==self.df['Brand']\n",
    "        c1 = np.logical_not(self.df['Brand'].isin(self.unwanted_brands))\n",
    "        c2 = self.df['Returnable'].isin(self.returnable)\n",
    "        c3 = self.df['Mls']<=self.max_mls\n",
    "        combined_cond = c0&c1&c2&c3\n",
    "        # Apply condition\n",
    "        self.filtered_df = self.df[combined_cond]"
   ]
  },
  {
   "cell_type": "markdown",
   "id": "ef8ae497",
   "metadata": {},
   "source": [
    "# Getting data"
   ]
  },
  {
   "cell_type": "code",
   "execution_count": 7,
   "id": "ddbaec12",
   "metadata": {},
   "outputs": [],
   "source": [
    "a = BeerScraper()"
   ]
  },
  {
   "cell_type": "code",
   "execution_count": 8,
   "id": "c51f43fd",
   "metadata": {},
   "outputs": [
    {
     "name": "stdout",
     "output_type": "stream",
     "text": [
      "CPU times: user 3.87 ms, sys: 25.6 ms, total: 29.5 ms\n",
      "Wall time: 1.29 s\n"
     ]
    }
   ],
   "source": [
    "%%time\n",
    "a.build_driver()"
   ]
  },
  {
   "cell_type": "code",
   "execution_count": 9,
   "id": "f52e409b",
   "metadata": {},
   "outputs": [
    {
     "name": "stdout",
     "output_type": "stream",
     "text": [
      "CPU times: user 20.9 ms, sys: 10.4 ms, total: 31.3 ms\n",
      "Wall time: 7.27 s\n"
     ]
    }
   ],
   "source": [
    "%%time\n",
    "a.login()"
   ]
  },
  {
   "cell_type": "code",
   "execution_count": 10,
   "id": "a01e7538",
   "metadata": {},
   "outputs": [
    {
     "name": "stdout",
     "output_type": "stream",
     "text": [
      "CPU times: user 245 ms, sys: 9.61 ms, total: 254 ms\n",
      "Wall time: 14.3 s\n"
     ]
    }
   ],
   "source": [
    "%%time\n",
    "a.get_available_brands()"
   ]
  },
  {
   "cell_type": "code",
   "execution_count": 11,
   "id": "c70791b5",
   "metadata": {},
   "outputs": [
    {
     "name": "stdout",
     "output_type": "stream",
     "text": [
      "CPU times: user 1.53 s, sys: 69.5 ms, total: 1.6 s\n",
      "Wall time: 1min 48s\n"
     ]
    }
   ],
   "source": [
    "%%time\n",
    "a.scrape_data()"
   ]
  },
  {
   "cell_type": "code",
   "execution_count": 12,
   "id": "ea2c184b",
   "metadata": {},
   "outputs": [
    {
     "name": "stdout",
     "output_type": "stream",
     "text": [
      "CPU times: user 15 ms, sys: 11.2 ms, total: 26.2 ms\n",
      "Wall time: 20.4 ms\n"
     ]
    }
   ],
   "source": [
    "%%time\n",
    "a.create_df()"
   ]
  },
  {
   "cell_type": "code",
   "execution_count": 13,
   "id": "952af4be",
   "metadata": {},
   "outputs": [
    {
     "name": "stdout",
     "output_type": "stream",
     "text": [
      "CPU times: user 227 µs, sys: 46 µs, total: 273 µs\n",
      "Wall time: 301 µs\n"
     ]
    }
   ],
   "source": [
    "%%time\n",
    "a.set_filters()"
   ]
  },
  {
   "cell_type": "code",
   "execution_count": 14,
   "id": "5d38dec4",
   "metadata": {},
   "outputs": [
    {
     "name": "stdout",
     "output_type": "stream",
     "text": [
      "CPU times: user 0 ns, sys: 6.45 ms, total: 6.45 ms\n",
      "Wall time: 5.76 ms\n"
     ]
    }
   ],
   "source": [
    "%%time\n",
    "a.apply_filters()"
   ]
  },
  {
   "cell_type": "code",
   "execution_count": 15,
   "id": "dac9b19c",
   "metadata": {},
   "outputs": [
    {
     "data": {
      "text/html": [
       "<div>\n",
       "<style scoped>\n",
       "    .dataframe tbody tr th:only-of-type {\n",
       "        vertical-align: middle;\n",
       "    }\n",
       "\n",
       "    .dataframe tbody tr th {\n",
       "        vertical-align: top;\n",
       "    }\n",
       "\n",
       "    .dataframe thead th {\n",
       "        text-align: right;\n",
       "    }\n",
       "</style>\n",
       "<table border=\"1\" class=\"dataframe\">\n",
       "  <thead>\n",
       "    <tr style=\"text-align: right;\">\n",
       "      <th></th>\n",
       "      <th>Product</th>\n",
       "      <th>Price</th>\n",
       "      <th>Brand</th>\n",
       "      <th>Mls</th>\n",
       "      <th>Price Per Liter</th>\n",
       "      <th>Returnable</th>\n",
       "    </tr>\n",
       "  </thead>\n",
       "  <tbody>\n",
       "    <tr>\n",
       "      <th>35</th>\n",
       "      <td>Antarctica Subzero 473ml</td>\n",
       "      <td>2.69</td>\n",
       "      <td>Antarctica</td>\n",
       "      <td>473.0</td>\n",
       "      <td>5.687104</td>\n",
       "      <td>No</td>\n",
       "    </tr>\n",
       "    <tr>\n",
       "      <th>32</th>\n",
       "      <td>Antarctica Pilsen 1L | Apenas o líquido</td>\n",
       "      <td>6.09</td>\n",
       "      <td>Antarctica</td>\n",
       "      <td>1000.0</td>\n",
       "      <td>6.090000</td>\n",
       "      <td>Yes</td>\n",
       "    </tr>\n",
       "    <tr>\n",
       "      <th>16</th>\n",
       "      <td>Skol 473ml</td>\n",
       "      <td>2.99</td>\n",
       "      <td>Skol</td>\n",
       "      <td>473.0</td>\n",
       "      <td>6.321353</td>\n",
       "      <td>No</td>\n",
       "    </tr>\n",
       "    <tr>\n",
       "      <th>18</th>\n",
       "      <td>Skol 350ml</td>\n",
       "      <td>2.29</td>\n",
       "      <td>Skol</td>\n",
       "      <td>350.0</td>\n",
       "      <td>6.542857</td>\n",
       "      <td>No</td>\n",
       "    </tr>\n",
       "    <tr>\n",
       "      <th>20</th>\n",
       "      <td>Skol Puro Malte 350ml</td>\n",
       "      <td>2.29</td>\n",
       "      <td>Skol</td>\n",
       "      <td>350.0</td>\n",
       "      <td>6.542857</td>\n",
       "      <td>No</td>\n",
       "    </tr>\n",
       "    <tr>\n",
       "      <th>...</th>\n",
       "      <td>...</td>\n",
       "      <td>...</td>\n",
       "      <td>...</td>\n",
       "      <td>...</td>\n",
       "      <td>...</td>\n",
       "      <td>...</td>\n",
       "    </tr>\n",
       "    <tr>\n",
       "      <th>70</th>\n",
       "      <td>Wäls Trippel 375ml</td>\n",
       "      <td>19.99</td>\n",
       "      <td>Wäls</td>\n",
       "      <td>375.0</td>\n",
       "      <td>53.306667</td>\n",
       "      <td>No</td>\n",
       "    </tr>\n",
       "    <tr>\n",
       "      <th>118</th>\n",
       "      <td>Overhop Imperial IPA 500ml</td>\n",
       "      <td>26.90</td>\n",
       "      <td>Overhop</td>\n",
       "      <td>500.0</td>\n",
       "      <td>53.800000</td>\n",
       "      <td>No</td>\n",
       "    </tr>\n",
       "    <tr>\n",
       "      <th>103</th>\n",
       "      <td>Hocus Pocus IPA com Abacaxi 500ml</td>\n",
       "      <td>26.90</td>\n",
       "      <td>Hocus Pocus</td>\n",
       "      <td>500.0</td>\n",
       "      <td>53.800000</td>\n",
       "      <td>No</td>\n",
       "    </tr>\n",
       "    <tr>\n",
       "      <th>102</th>\n",
       "      <td>Hocus Pocus IPA 500ml</td>\n",
       "      <td>27.90</td>\n",
       "      <td>Hocus Pocus</td>\n",
       "      <td>500.0</td>\n",
       "      <td>55.800000</td>\n",
       "      <td>No</td>\n",
       "    </tr>\n",
       "    <tr>\n",
       "      <th>82</th>\n",
       "      <td>Goose Island Sofie 355ml</td>\n",
       "      <td>20.99</td>\n",
       "      <td>Goose Island</td>\n",
       "      <td>355.0</td>\n",
       "      <td>59.126761</td>\n",
       "      <td>No</td>\n",
       "    </tr>\n",
       "  </tbody>\n",
       "</table>\n",
       "<p>129 rows × 6 columns</p>\n",
       "</div>"
      ],
      "text/plain": [
       "                                     Product  Price         Brand     Mls  \\\n",
       "35                  Antarctica Subzero 473ml   2.69    Antarctica   473.0   \n",
       "32   Antarctica Pilsen 1L | Apenas o líquido   6.09    Antarctica  1000.0   \n",
       "16                                Skol 473ml   2.99          Skol   473.0   \n",
       "18                                Skol 350ml   2.29          Skol   350.0   \n",
       "20                     Skol Puro Malte 350ml   2.29          Skol   350.0   \n",
       "..                                       ...    ...           ...     ...   \n",
       "70                        Wäls Trippel 375ml  19.99          Wäls   375.0   \n",
       "118               Overhop Imperial IPA 500ml  26.90       Overhop   500.0   \n",
       "103        Hocus Pocus IPA com Abacaxi 500ml  26.90   Hocus Pocus   500.0   \n",
       "102                    Hocus Pocus IPA 500ml  27.90   Hocus Pocus   500.0   \n",
       "82                  Goose Island Sofie 355ml  20.99  Goose Island   355.0   \n",
       "\n",
       "     Price Per Liter Returnable  \n",
       "35          5.687104         No  \n",
       "32          6.090000        Yes  \n",
       "16          6.321353         No  \n",
       "18          6.542857         No  \n",
       "20          6.542857         No  \n",
       "..               ...        ...  \n",
       "70         53.306667         No  \n",
       "118        53.800000         No  \n",
       "103        53.800000         No  \n",
       "102        55.800000         No  \n",
       "82         59.126761         No  \n",
       "\n",
       "[129 rows x 6 columns]"
      ]
     },
     "execution_count": 15,
     "metadata": {},
     "output_type": "execute_result"
    }
   ],
   "source": [
    "a.filtered_df"
   ]
  },
  {
   "cell_type": "markdown",
   "id": "244bcd77",
   "metadata": {},
   "source": [
    "# Improving scraping time"
   ]
  },
  {
   "cell_type": "markdown",
   "id": "42390a64",
   "metadata": {},
   "source": [
    "As we can see above, it takes around 2 minutes to scrape the website, get all the data, and create the dataframe. This is far too long and most users would not like to wait all this time to get an answer on what is the cheapest beer.\n",
    "\n",
    "We can improve this time by investigating what step is taking the longest. By using the '%%time' magic command, we can see that the 'scrape_data' method is responsible for almost all that time (1m48s). This is because we are doing several get requests, one for each available brand.\n",
    "\n",
    "As the main goal of this program is to find cheap beers, we can assume that most users won't be interested in the high-end, premium beers. So we can filter out the most expensive brands by default, thus reducing the scrape time."
   ]
  },
  {
   "cell_type": "markdown",
   "id": "cae978e2",
   "metadata": {},
   "source": [
    "#### Filtering out most expensive brands"
   ]
  },
  {
   "cell_type": "markdown",
   "id": "d19c486b",
   "metadata": {},
   "source": [
    "The criteria to filter out brands will be that all brands that have their cheapest beer (in Prices per Liter)"
   ]
  },
  {
   "cell_type": "code",
   "execution_count": 16,
   "id": "f7eed7a6",
   "metadata": {},
   "outputs": [],
   "source": [
    "df = a.df"
   ]
  },
  {
   "cell_type": "code",
   "execution_count": 17,
   "id": "ddb0ad87",
   "metadata": {},
   "outputs": [
    {
     "data": {
      "text/html": [
       "<div>\n",
       "<style scoped>\n",
       "    .dataframe tbody tr th:only-of-type {\n",
       "        vertical-align: middle;\n",
       "    }\n",
       "\n",
       "    .dataframe tbody tr th {\n",
       "        vertical-align: top;\n",
       "    }\n",
       "\n",
       "    .dataframe thead th {\n",
       "        text-align: right;\n",
       "    }\n",
       "</style>\n",
       "<table border=\"1\" class=\"dataframe\">\n",
       "  <thead>\n",
       "    <tr style=\"text-align: right;\">\n",
       "      <th></th>\n",
       "      <th>Price Per Liter</th>\n",
       "    </tr>\n",
       "    <tr>\n",
       "      <th>Brand</th>\n",
       "      <th></th>\n",
       "    </tr>\n",
       "  </thead>\n",
       "  <tbody>\n",
       "    <tr>\n",
       "      <th>Antarctica</th>\n",
       "      <td>5.687104</td>\n",
       "    </tr>\n",
       "    <tr>\n",
       "      <th>Skol</th>\n",
       "      <td>6.321353</td>\n",
       "    </tr>\n",
       "    <tr>\n",
       "      <th>Brahma</th>\n",
       "      <td>7.090000</td>\n",
       "    </tr>\n",
       "    <tr>\n",
       "      <th>Bohemia</th>\n",
       "      <td>7.114286</td>\n",
       "    </tr>\n",
       "    <tr>\n",
       "      <th>Budweiser</th>\n",
       "      <td>8.625793</td>\n",
       "    </tr>\n",
       "    <tr>\n",
       "      <th>Original</th>\n",
       "      <td>9.114286</td>\n",
       "    </tr>\n",
       "    <tr>\n",
       "      <th>Serramalte</th>\n",
       "      <td>9.114286</td>\n",
       "    </tr>\n",
       "    <tr>\n",
       "      <th>Stella Artois</th>\n",
       "      <td>10.408922</td>\n",
       "    </tr>\n",
       "    <tr>\n",
       "      <th>Caracu</th>\n",
       "      <td>10.828571</td>\n",
       "    </tr>\n",
       "    <tr>\n",
       "      <th>Beck's</th>\n",
       "      <td>12.828571</td>\n",
       "    </tr>\n",
       "    <tr>\n",
       "      <th>Colorado</th>\n",
       "      <td>14.257143</td>\n",
       "    </tr>\n",
       "    <tr>\n",
       "      <th>Corona</th>\n",
       "      <td>16.636364</td>\n",
       "    </tr>\n",
       "    <tr>\n",
       "      <th>Cervejaria Bohemia</th>\n",
       "      <td>19.000000</td>\n",
       "    </tr>\n",
       "    <tr>\n",
       "      <th>Farra Bier</th>\n",
       "      <td>20.571429</td>\n",
       "    </tr>\n",
       "    <tr>\n",
       "      <th>Patagonia</th>\n",
       "      <td>21.608108</td>\n",
       "    </tr>\n",
       "    <tr>\n",
       "      <th>Noi</th>\n",
       "      <td>23.943662</td>\n",
       "    </tr>\n",
       "    <tr>\n",
       "      <th>Hoegaarden</th>\n",
       "      <td>24.212121</td>\n",
       "    </tr>\n",
       "    <tr>\n",
       "      <th>Flamingo</th>\n",
       "      <td>24.833333</td>\n",
       "    </tr>\n",
       "    <tr>\n",
       "      <th>Motim</th>\n",
       "      <td>27.464789</td>\n",
       "    </tr>\n",
       "    <tr>\n",
       "      <th>Goose Island</th>\n",
       "      <td>28.140845</td>\n",
       "    </tr>\n",
       "    <tr>\n",
       "      <th>Kona</th>\n",
       "      <td>29.549296</td>\n",
       "    </tr>\n",
       "    <tr>\n",
       "      <th>Overhop</th>\n",
       "      <td>29.833333</td>\n",
       "    </tr>\n",
       "    <tr>\n",
       "      <th>Hocus Pocus</th>\n",
       "      <td>35.800000</td>\n",
       "    </tr>\n",
       "    <tr>\n",
       "      <th>Leffe</th>\n",
       "      <td>36.333333</td>\n",
       "    </tr>\n",
       "    <tr>\n",
       "      <th>Three Monkeys</th>\n",
       "      <td>38.400000</td>\n",
       "    </tr>\n",
       "    <tr>\n",
       "      <th>Franziskaner</th>\n",
       "      <td>39.800000</td>\n",
       "    </tr>\n",
       "    <tr>\n",
       "      <th>Wäls</th>\n",
       "      <td>53.306667</td>\n",
       "    </tr>\n",
       "  </tbody>\n",
       "</table>\n",
       "</div>"
      ],
      "text/plain": [
       "                    Price Per Liter\n",
       "Brand                              \n",
       "Antarctica                 5.687104\n",
       "Skol                       6.321353\n",
       "Brahma                     7.090000\n",
       "Bohemia                    7.114286\n",
       "Budweiser                  8.625793\n",
       "Original                   9.114286\n",
       "Serramalte                 9.114286\n",
       "Stella Artois             10.408922\n",
       "Caracu                    10.828571\n",
       "Beck's                    12.828571\n",
       "Colorado                  14.257143\n",
       "Corona                    16.636364\n",
       "Cervejaria Bohemia        19.000000\n",
       "Farra Bier                20.571429\n",
       "Patagonia                 21.608108\n",
       "Noi                       23.943662\n",
       "Hoegaarden                24.212121\n",
       "Flamingo                  24.833333\n",
       "Motim                     27.464789\n",
       "Goose Island              28.140845\n",
       "Kona                      29.549296\n",
       "Overhop                   29.833333\n",
       "Hocus Pocus               35.800000\n",
       "Leffe                     36.333333\n",
       "Three Monkeys             38.400000\n",
       "Franziskaner              39.800000\n",
       "Wäls                      53.306667"
      ]
     },
     "execution_count": 17,
     "metadata": {},
     "output_type": "execute_result"
    }
   ],
   "source": [
    "# Rank the brands by their best Price Per Liter\n",
    "df_ranked = df[['Brand','Price Per Liter']].groupby(by=['Brand']).min().sort_values('Price Per Liter')\n",
    "df_ranked"
   ]
  },
  {
   "cell_type": "code",
   "execution_count": 18,
   "id": "dfae467e",
   "metadata": {},
   "outputs": [
    {
     "data": {
      "text/plain": [
       "Index(['Antarctica', 'Skol', 'Brahma', 'Bohemia', 'Budweiser', 'Original',\n",
       "       'Serramalte'],\n",
       "      dtype='object', name='Brand')"
      ]
     },
     "execution_count": 18,
     "metadata": {},
     "output_type": "execute_result"
    }
   ],
   "source": [
    "df_ranked.index[:7]"
   ]
  },
  {
   "cell_type": "code",
   "execution_count": 19,
   "id": "b4529b5b",
   "metadata": {},
   "outputs": [
    {
     "ename": "NameError",
     "evalue": "name 'df2' is not defined",
     "output_type": "error",
     "traceback": [
      "\u001b[0;31m---------------------------------------------------------------------------\u001b[0m",
      "\u001b[0;31mNameError\u001b[0m                                 Traceback (most recent call last)",
      "\u001b[0;32m<ipython-input-19-7230a215777c>\u001b[0m in \u001b[0;36m<module>\u001b[0;34m\u001b[0m\n\u001b[0;32m----> 1\u001b[0;31m \u001b[0mlen\u001b[0m\u001b[0;34m(\u001b[0m\u001b[0mdf2\u001b[0m\u001b[0;34m)\u001b[0m\u001b[0;34m\u001b[0m\u001b[0;34m\u001b[0m\u001b[0m\n\u001b[0m",
      "\u001b[0;31mNameError\u001b[0m: name 'df2' is not defined"
     ]
    }
   ],
   "source": [
    "len(df2)"
   ]
  },
  {
   "cell_type": "code",
   "execution_count": null,
   "id": "6e059bca",
   "metadata": {},
   "outputs": [],
   "source": []
  }
 ],
 "metadata": {
  "kernelspec": {
   "display_name": "Python 3",
   "language": "python",
   "name": "python3"
  },
  "language_info": {
   "codemirror_mode": {
    "name": "ipython",
    "version": 3
   },
   "file_extension": ".py",
   "mimetype": "text/x-python",
   "name": "python",
   "nbconvert_exporter": "python",
   "pygments_lexer": "ipython3",
   "version": "3.8.6"
  }
 },
 "nbformat": 4,
 "nbformat_minor": 5
}
