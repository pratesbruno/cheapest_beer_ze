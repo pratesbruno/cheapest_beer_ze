{
 "cells": [
  {
   "cell_type": "markdown",
   "metadata": {},
   "source": [
    "# Beer scraper - Zé Delivery\n",
    "\n",
    "This notebook scrapes beer prices and other info from the delivery website \"Zé Delivery\", and returns the cheapest option possible, subject to constraints defined by the user.\n",
    "\n",
    "The code in this notebook is a draft, and will be moved to a python package later where it will be improved and sent to production."
   ]
  },
  {
   "cell_type": "markdown",
   "metadata": {},
   "source": [
    "# Imports"
   ]
  },
  {
   "cell_type": "code",
   "execution_count": 50,
   "metadata": {},
   "outputs": [],
   "source": [
    "import requests\n",
    "from bs4 import BeautifulSoup\n",
    "from selenium import webdriver\n",
    "from selenium.webdriver.chrome.options import Options\n",
    "import time\n",
    "from unidecode import unidecode\n",
    "\n",
    "import pandas as pd\n",
    "import numpy as np\n",
    "import re\n",
    "import json"
   ]
  },
  {
   "cell_type": "markdown",
   "metadata": {},
   "source": [
    "# Auxiliary functions"
   ]
  },
  {
   "cell_type": "code",
   "execution_count": 2,
   "metadata": {},
   "outputs": [],
   "source": [
    "# This function creates the url string for a particular brand\n",
    "def get_url(brand):\n",
    "    root_url = 'https://www.ze.delivery/produtos/marca/'\n",
    "    brand = brand.lower()\n",
    "    brand = unidecode(brand)\n",
    "    brand = brand.replace(\"'\", \"\")\n",
    "    brand = brand.replace(\" \", \"-\")\n",
    "    return root_url+brand"
   ]
  },
  {
   "cell_type": "code",
   "execution_count": 3,
   "metadata": {},
   "outputs": [],
   "source": [
    "# This function takes the price in the format that it is found in the HTML, and convert to a float.\n",
    "def handle_price(price):\n",
    "    price = price.text[3:]\n",
    "    price = price.replace(',','.')\n",
    "    return float(price)"
   ]
  },
  {
   "cell_type": "code",
   "execution_count": 4,
   "metadata": {},
   "outputs": [],
   "source": [
    "# This function get the number of mls in a product\n",
    "def get_mls(product):\n",
    "    pattern1 = r\"(\\d+)ml\"\n",
    "    pattern2 = r\"(\\d*\\.*\\d+)L\"\n",
    "    try:\n",
    "        ml = float(re.findall(pattern1, product)[0])\n",
    "    except:\n",
    "        try:\n",
    "            ml = int(float(re.findall(pattern2, product)[0])*1000)\n",
    "        except:\n",
    "            ml = np.nan\n",
    "    return ml"
   ]
  },
  {
   "cell_type": "code",
   "execution_count": 5,
   "metadata": {},
   "outputs": [],
   "source": [
    "# This function checks if the product is returnable, by looking at its name\n",
    "def is_returnable(product):\n",
    "    if product.find('Apenas o ') == -1:\n",
    "        return 'No'\n",
    "    return 'Yes'"
   ]
  },
  {
   "cell_type": "markdown",
   "metadata": {},
   "source": [
    "# Class"
   ]
  },
  {
   "cell_type": "code",
   "execution_count": 6,
   "metadata": {},
   "outputs": [],
   "source": [
    "class BeerScraper:\n",
    "    def __init__(self):\n",
    "        self.driver = None\n",
    "        self.email = None\n",
    "        self.password = None\n",
    "        self.available_brands = []\n",
    "        self.prices = []\n",
    "        self.products = []\n",
    "        self.brands = []\n",
    "        self.df = None\n",
    "        # Filters\n",
    "        self.wanted_brands = []\n",
    "        self.unwanted_brands = []\n",
    "        self.returnable = ['Yes','No']\n",
    "        self.max_mls = 99999\n",
    "        self.filtered_df = None\n",
    "        \n",
    "    def build_driver(self):\n",
    "        options = Options()\n",
    "        options.add_argument('--headless')\n",
    "        options.add_argument('--disable-gpu')\n",
    "        self.driver = webdriver.Chrome(options=options)\n",
    "    \n",
    "    def login(self):\n",
    "        # Login details\n",
    "        login_url = 'https://www.ze.delivery/conta/entrar'\n",
    "        self.email = \"brunoprates@poli.ufrj.br\" ############### Mudar depois\n",
    "        self.password = \"ze123456\"\n",
    "        \n",
    "        # Enter login details in form\n",
    "        self.driver.get(login_url)\n",
    "        self.driver.implicitly_wait(6)\n",
    "        self.driver.find_element_by_xpath(\"\"\"//*[@id=\"login-mail-input-email\"]\"\"\").send_keys(self.email)\n",
    "        self.driver.find_element_by_xpath(\"\"\"//*[@id=\"login-mail-input-password\"]\"\"\").send_keys(self.password)\n",
    "\n",
    "        # Press sign in button\n",
    "        button = self.driver.find_element_by_xpath(\"\"\"//*[@id=\"login-mail-button-sign-in\"]\"\"\")\n",
    "        self.driver.execute_script(\"arguments[0].click();\", button)\n",
    "        time.sleep(3) # Wait a couple seconds to complete the sign in\n",
    "        \n",
    "    def get_available_brands(self):\n",
    "        url_brands = 'https://www.ze.delivery/produtos/categoria/cervejas'\n",
    "        self.driver.get(url_brands)\n",
    "        soup = BeautifulSoup(self.driver.page_source, \"html.parser\")\n",
    "        available_brands_html = soup.find_all(\"h2\", class_=\"css-l9heuk-shelfTitle\")\n",
    "        self.available_brands = [brand_html.text for brand_html in available_brands_html]\n",
    "        \n",
    "    def scrape_data(self):\n",
    "        for brand in self.available_brands:\n",
    "            #Get page HTML\n",
    "            url = get_url(brand)\n",
    "            self.driver.get(url)\n",
    "            soup = BeautifulSoup(self.driver.page_source, \"html.parser\")\n",
    "            \n",
    "            #Find products and add to instance variable\n",
    "            products_html = soup.find_all(\"h3\", class_=\"css-krg860-productTitle\")\n",
    "            for product in products_html:\n",
    "                self.products.append(product.text)\n",
    "            \n",
    "            #Find prices and add to instance variable.\n",
    "            prices_html = soup.find_all(\"div\", class_=\"css-t89dhz-priceText\")\n",
    "            for price in prices_html:\n",
    "                self.prices.append(handle_price(price))\n",
    "                self.brands.append(brand) # Leverage the for loop to include brand names\n",
    "    \n",
    "    def create_df(self):\n",
    "        self.df = pd.DataFrame(list(zip(self.products,self.prices,self.brands)),columns=['Product','Price','Brand'])\n",
    "        self.df['Mls'] = self.df['Product'].map(get_mls)\n",
    "        self.df['Price Per Liter'] = self.df['Price']/self.df['Mls']*1000\n",
    "        self.df['Returnable'] = self.df['Product'].map(is_returnable)\n",
    "        # Sort\n",
    "        self.df = self.df.sort_values('Price Per Liter')\n",
    "    \n",
    "    def set_filters(self,wb=[],ub=[],r=['Yes','No'],mm=99999):\n",
    "        self.wanted_brands = wb\n",
    "        self.unwanted_brands = ub\n",
    "        self.returnable = r\n",
    "        self.max_mls = mm\n",
    "        \n",
    "    def apply_filters(self):\n",
    "        # Conditions\n",
    "        c0 = self.df['Brand'].isin(self.wanted_brands) if len(self.wanted_brands)>0 else self.df['Brand']==self.df['Brand']\n",
    "        c1 = np.logical_not(self.df['Brand'].isin(self.unwanted_brands))\n",
    "        c2 = self.df['Returnable'].isin(self.returnable)\n",
    "        c3 = self.df['Mls']<=self.max_mls\n",
    "        combined_cond = c0&c1&c2&c3\n",
    "        # Apply condition\n",
    "        self.filtered_df = self.df[combined_cond]"
   ]
  },
  {
   "cell_type": "markdown",
   "metadata": {},
   "source": [
    "# Getting data"
   ]
  },
  {
   "cell_type": "code",
   "execution_count": 7,
   "metadata": {},
   "outputs": [],
   "source": [
    "beer_scraper = BeerScraper()"
   ]
  },
  {
   "cell_type": "code",
   "execution_count": 8,
   "metadata": {},
   "outputs": [
    {
     "name": "stdout",
     "output_type": "stream",
     "text": [
      "CPU times: user 22.8 ms, sys: 1.38 ms, total: 24.2 ms\n",
      "Wall time: 1.46 s\n"
     ]
    }
   ],
   "source": [
    "%%time\n",
    "beer_scraper.build_driver()"
   ]
  },
  {
   "cell_type": "code",
   "execution_count": 9,
   "metadata": {},
   "outputs": [
    {
     "name": "stdout",
     "output_type": "stream",
     "text": [
      "CPU times: user 23 ms, sys: 7.18 ms, total: 30.2 ms\n",
      "Wall time: 7.69 s\n"
     ]
    }
   ],
   "source": [
    "%%time\n",
    "beer_scraper.login()"
   ]
  },
  {
   "cell_type": "code",
   "execution_count": 10,
   "metadata": {},
   "outputs": [
    {
     "name": "stdout",
     "output_type": "stream",
     "text": [
      "CPU times: user 302 ms, sys: 48.7 ms, total: 351 ms\n",
      "Wall time: 13.1 s\n"
     ]
    }
   ],
   "source": [
    "%%time\n",
    "beer_scraper.get_available_brands()"
   ]
  },
  {
   "cell_type": "code",
   "execution_count": 11,
   "metadata": {},
   "outputs": [
    {
     "name": "stdout",
     "output_type": "stream",
     "text": [
      "CPU times: user 1.4 s, sys: 33.8 ms, total: 1.43 s\n",
      "Wall time: 1min 47s\n"
     ]
    }
   ],
   "source": [
    "%%time\n",
    "beer_scraper.scrape_data()"
   ]
  },
  {
   "cell_type": "code",
   "execution_count": 12,
   "metadata": {},
   "outputs": [
    {
     "name": "stdout",
     "output_type": "stream",
     "text": [
      "CPU times: user 26.7 ms, sys: 2.2 ms, total: 28.9 ms\n",
      "Wall time: 23.4 ms\n"
     ]
    }
   ],
   "source": [
    "%%time\n",
    "beer_scraper.create_df()\n",
    "beer_scraper.set_filters()\n",
    "beer_scraper.apply_filters()"
   ]
  },
  {
   "cell_type": "code",
   "execution_count": 13,
   "metadata": {},
   "outputs": [
    {
     "data": {
      "text/html": [
       "<div>\n",
       "<style scoped>\n",
       "    .dataframe tbody tr th:only-of-type {\n",
       "        vertical-align: middle;\n",
       "    }\n",
       "\n",
       "    .dataframe tbody tr th {\n",
       "        vertical-align: top;\n",
       "    }\n",
       "\n",
       "    .dataframe thead th {\n",
       "        text-align: right;\n",
       "    }\n",
       "</style>\n",
       "<table border=\"1\" class=\"dataframe\">\n",
       "  <thead>\n",
       "    <tr style=\"text-align: right;\">\n",
       "      <th></th>\n",
       "      <th>Product</th>\n",
       "      <th>Price</th>\n",
       "      <th>Brand</th>\n",
       "      <th>Mls</th>\n",
       "      <th>Price Per Liter</th>\n",
       "      <th>Returnable</th>\n",
       "    </tr>\n",
       "  </thead>\n",
       "  <tbody>\n",
       "    <tr>\n",
       "      <th>37</th>\n",
       "      <td>Antarctica Subzero 473ml</td>\n",
       "      <td>2.69</td>\n",
       "      <td>Antarctica</td>\n",
       "      <td>473.0</td>\n",
       "      <td>5.687104</td>\n",
       "      <td>No</td>\n",
       "    </tr>\n",
       "    <tr>\n",
       "      <th>34</th>\n",
       "      <td>Antarctica Pilsen 1L | Apenas o líquido</td>\n",
       "      <td>6.09</td>\n",
       "      <td>Antarctica</td>\n",
       "      <td>1000.0</td>\n",
       "      <td>6.090000</td>\n",
       "      <td>Yes</td>\n",
       "    </tr>\n",
       "    <tr>\n",
       "      <th>17</th>\n",
       "      <td>Skol 473ml</td>\n",
       "      <td>2.99</td>\n",
       "      <td>Skol</td>\n",
       "      <td>473.0</td>\n",
       "      <td>6.321353</td>\n",
       "      <td>No</td>\n",
       "    </tr>\n",
       "    <tr>\n",
       "      <th>22</th>\n",
       "      <td>Skol Puro Malte 350ml</td>\n",
       "      <td>2.29</td>\n",
       "      <td>Skol</td>\n",
       "      <td>350.0</td>\n",
       "      <td>6.542857</td>\n",
       "      <td>No</td>\n",
       "    </tr>\n",
       "    <tr>\n",
       "      <th>19</th>\n",
       "      <td>Skol 350ml</td>\n",
       "      <td>2.29</td>\n",
       "      <td>Skol</td>\n",
       "      <td>350.0</td>\n",
       "      <td>6.542857</td>\n",
       "      <td>No</td>\n",
       "    </tr>\n",
       "    <tr>\n",
       "      <th>...</th>\n",
       "      <td>...</td>\n",
       "      <td>...</td>\n",
       "      <td>...</td>\n",
       "      <td>...</td>\n",
       "      <td>...</td>\n",
       "      <td>...</td>\n",
       "    </tr>\n",
       "    <tr>\n",
       "      <th>74</th>\n",
       "      <td>Wäls Trippel 375ml</td>\n",
       "      <td>19.99</td>\n",
       "      <td>Wäls</td>\n",
       "      <td>375.0</td>\n",
       "      <td>53.306667</td>\n",
       "      <td>No</td>\n",
       "    </tr>\n",
       "    <tr>\n",
       "      <th>123</th>\n",
       "      <td>Overhop Imperial IPA 500ml</td>\n",
       "      <td>26.90</td>\n",
       "      <td>Overhop</td>\n",
       "      <td>500.0</td>\n",
       "      <td>53.800000</td>\n",
       "      <td>No</td>\n",
       "    </tr>\n",
       "    <tr>\n",
       "      <th>108</th>\n",
       "      <td>Hocus Pocus IPA com Abacaxi 500ml</td>\n",
       "      <td>26.90</td>\n",
       "      <td>Hocus Pocus</td>\n",
       "      <td>500.0</td>\n",
       "      <td>53.800000</td>\n",
       "      <td>No</td>\n",
       "    </tr>\n",
       "    <tr>\n",
       "      <th>107</th>\n",
       "      <td>Hocus Pocus IPA 500ml</td>\n",
       "      <td>27.90</td>\n",
       "      <td>Hocus Pocus</td>\n",
       "      <td>500.0</td>\n",
       "      <td>55.800000</td>\n",
       "      <td>No</td>\n",
       "    </tr>\n",
       "    <tr>\n",
       "      <th>87</th>\n",
       "      <td>Goose Island Sofie 355ml</td>\n",
       "      <td>20.99</td>\n",
       "      <td>Goose Island</td>\n",
       "      <td>355.0</td>\n",
       "      <td>59.126761</td>\n",
       "      <td>No</td>\n",
       "    </tr>\n",
       "  </tbody>\n",
       "</table>\n",
       "<p>134 rows × 6 columns</p>\n",
       "</div>"
      ],
      "text/plain": [
       "                                     Product  Price         Brand     Mls  \\\n",
       "37                  Antarctica Subzero 473ml   2.69    Antarctica   473.0   \n",
       "34   Antarctica Pilsen 1L | Apenas o líquido   6.09    Antarctica  1000.0   \n",
       "17                                Skol 473ml   2.99          Skol   473.0   \n",
       "22                     Skol Puro Malte 350ml   2.29          Skol   350.0   \n",
       "19                                Skol 350ml   2.29          Skol   350.0   \n",
       "..                                       ...    ...           ...     ...   \n",
       "74                        Wäls Trippel 375ml  19.99          Wäls   375.0   \n",
       "123               Overhop Imperial IPA 500ml  26.90       Overhop   500.0   \n",
       "108        Hocus Pocus IPA com Abacaxi 500ml  26.90   Hocus Pocus   500.0   \n",
       "107                    Hocus Pocus IPA 500ml  27.90   Hocus Pocus   500.0   \n",
       "87                  Goose Island Sofie 355ml  20.99  Goose Island   355.0   \n",
       "\n",
       "     Price Per Liter Returnable  \n",
       "37          5.687104         No  \n",
       "34          6.090000        Yes  \n",
       "17          6.321353         No  \n",
       "22          6.542857         No  \n",
       "19          6.542857         No  \n",
       "..               ...        ...  \n",
       "74         53.306667         No  \n",
       "123        53.800000         No  \n",
       "108        53.800000         No  \n",
       "107        55.800000         No  \n",
       "87         59.126761         No  \n",
       "\n",
       "[134 rows x 6 columns]"
      ]
     },
     "execution_count": 13,
     "metadata": {},
     "output_type": "execute_result"
    }
   ],
   "source": [
    "beer_scraper.filtered_df"
   ]
  },
  {
   "cell_type": "markdown",
   "metadata": {},
   "source": [
    "# Improving scraping time"
   ]
  },
  {
   "cell_type": "markdown",
   "metadata": {},
   "source": [
    "As we can see above, it takes around 2 minutes to scrape the website, get all the data, and create the dataframe. This is far too long and most users would not like to wait all this time to get an answer on what is the cheapest beer.\n",
    "\n",
    "We can improve this time by investigating what step is taking the longest. By using the '%%time' magic command, we can see that the 'scrape_data' method is responsible for almost all that time (1m48s). This is because we are doing several get requests, one for each available brand.\n",
    "\n",
    "As the main goal of this program is to find cheap beers, we can assume that most users won't be interested in the high-end, premium beers. So we can filter out the most expensive brands by default, thus reducing the scrape time."
   ]
  },
  {
   "cell_type": "markdown",
   "metadata": {},
   "source": [
    "#### Filtering out most expensive brands"
   ]
  },
  {
   "cell_type": "markdown",
   "metadata": {},
   "source": [
    "In order to filter out brands, it is necessary to define some subjective criteria. I choose to keep only the brands that have at least one beer that is within three times the price of the overall cheapest beer (in Price per Liter). In other words, if the cheapest beer of a particular brand is three times more expensive than the cheapest beer you can possibly get, we can assume that this is an expensive premium brand, and by deafult, we will not include it in our dataframe."
   ]
  },
  {
   "cell_type": "code",
   "execution_count": 14,
   "metadata": {},
   "outputs": [],
   "source": [
    "df = beer_scraper.df"
   ]
  },
  {
   "cell_type": "code",
   "execution_count": 15,
   "metadata": {},
   "outputs": [
    {
     "data": {
      "text/html": [
       "<div>\n",
       "<style scoped>\n",
       "    .dataframe tbody tr th:only-of-type {\n",
       "        vertical-align: middle;\n",
       "    }\n",
       "\n",
       "    .dataframe tbody tr th {\n",
       "        vertical-align: top;\n",
       "    }\n",
       "\n",
       "    .dataframe thead th {\n",
       "        text-align: right;\n",
       "    }\n",
       "</style>\n",
       "<table border=\"1\" class=\"dataframe\">\n",
       "  <thead>\n",
       "    <tr style=\"text-align: right;\">\n",
       "      <th></th>\n",
       "      <th>Price Per Liter</th>\n",
       "    </tr>\n",
       "    <tr>\n",
       "      <th>Brand</th>\n",
       "      <th></th>\n",
       "    </tr>\n",
       "  </thead>\n",
       "  <tbody>\n",
       "    <tr>\n",
       "      <th>Antarctica</th>\n",
       "      <td>5.687104</td>\n",
       "    </tr>\n",
       "    <tr>\n",
       "      <th>Skol</th>\n",
       "      <td>6.321353</td>\n",
       "    </tr>\n",
       "    <tr>\n",
       "      <th>Brahma</th>\n",
       "      <td>7.090000</td>\n",
       "    </tr>\n",
       "    <tr>\n",
       "      <th>Bohemia</th>\n",
       "      <td>7.685714</td>\n",
       "    </tr>\n",
       "    <tr>\n",
       "      <th>Budweiser</th>\n",
       "      <td>9.069767</td>\n",
       "    </tr>\n",
       "    <tr>\n",
       "      <th>Serramalte</th>\n",
       "      <td>9.114286</td>\n",
       "    </tr>\n",
       "    <tr>\n",
       "      <th>Original</th>\n",
       "      <td>9.114286</td>\n",
       "    </tr>\n",
       "    <tr>\n",
       "      <th>Caracu</th>\n",
       "      <td>10.828571</td>\n",
       "    </tr>\n",
       "    <tr>\n",
       "      <th>Stella Artois</th>\n",
       "      <td>11.115242</td>\n",
       "    </tr>\n",
       "    <tr>\n",
       "      <th>Beck's</th>\n",
       "      <td>12.828571</td>\n",
       "    </tr>\n",
       "    <tr>\n",
       "      <th>Colorado</th>\n",
       "      <td>14.257143</td>\n",
       "    </tr>\n",
       "    <tr>\n",
       "      <th>Wäls</th>\n",
       "      <td>15.464789</td>\n",
       "    </tr>\n",
       "    <tr>\n",
       "      <th>Corona</th>\n",
       "      <td>16.636364</td>\n",
       "    </tr>\n",
       "    <tr>\n",
       "      <th>Cervejaria Bohemia</th>\n",
       "      <td>19.000000</td>\n",
       "    </tr>\n",
       "    <tr>\n",
       "      <th>Hoegaarden</th>\n",
       "      <td>20.408922</td>\n",
       "    </tr>\n",
       "    <tr>\n",
       "      <th>Farra Bier</th>\n",
       "      <td>20.571429</td>\n",
       "    </tr>\n",
       "    <tr>\n",
       "      <th>Patagonia</th>\n",
       "      <td>21.608108</td>\n",
       "    </tr>\n",
       "    <tr>\n",
       "      <th>Noi</th>\n",
       "      <td>23.943662</td>\n",
       "    </tr>\n",
       "    <tr>\n",
       "      <th>Flamingo</th>\n",
       "      <td>24.833333</td>\n",
       "    </tr>\n",
       "    <tr>\n",
       "      <th>Motim</th>\n",
       "      <td>27.464789</td>\n",
       "    </tr>\n",
       "    <tr>\n",
       "      <th>Goose Island</th>\n",
       "      <td>28.140845</td>\n",
       "    </tr>\n",
       "    <tr>\n",
       "      <th>Kona</th>\n",
       "      <td>29.549296</td>\n",
       "    </tr>\n",
       "    <tr>\n",
       "      <th>Overhop</th>\n",
       "      <td>29.833333</td>\n",
       "    </tr>\n",
       "    <tr>\n",
       "      <th>Hocus Pocus</th>\n",
       "      <td>35.800000</td>\n",
       "    </tr>\n",
       "    <tr>\n",
       "      <th>Leffe</th>\n",
       "      <td>36.333333</td>\n",
       "    </tr>\n",
       "    <tr>\n",
       "      <th>Three Monkeys</th>\n",
       "      <td>38.400000</td>\n",
       "    </tr>\n",
       "    <tr>\n",
       "      <th>Franziskaner</th>\n",
       "      <td>39.800000</td>\n",
       "    </tr>\n",
       "  </tbody>\n",
       "</table>\n",
       "</div>"
      ],
      "text/plain": [
       "                    Price Per Liter\n",
       "Brand                              \n",
       "Antarctica                 5.687104\n",
       "Skol                       6.321353\n",
       "Brahma                     7.090000\n",
       "Bohemia                    7.685714\n",
       "Budweiser                  9.069767\n",
       "Serramalte                 9.114286\n",
       "Original                   9.114286\n",
       "Caracu                    10.828571\n",
       "Stella Artois             11.115242\n",
       "Beck's                    12.828571\n",
       "Colorado                  14.257143\n",
       "Wäls                      15.464789\n",
       "Corona                    16.636364\n",
       "Cervejaria Bohemia        19.000000\n",
       "Hoegaarden                20.408922\n",
       "Farra Bier                20.571429\n",
       "Patagonia                 21.608108\n",
       "Noi                       23.943662\n",
       "Flamingo                  24.833333\n",
       "Motim                     27.464789\n",
       "Goose Island              28.140845\n",
       "Kona                      29.549296\n",
       "Overhop                   29.833333\n",
       "Hocus Pocus               35.800000\n",
       "Leffe                     36.333333\n",
       "Three Monkeys             38.400000\n",
       "Franziskaner              39.800000"
      ]
     },
     "execution_count": 15,
     "metadata": {},
     "output_type": "execute_result"
    }
   ],
   "source": [
    "# Rank the brands by their cheapest beer (in Price Per Liter)\n",
    "df_ranked = df[['Brand','Price Per Liter']].groupby(by=['Brand']).min().sort_values('Price Per Liter')\n",
    "df_ranked"
   ]
  },
  {
   "cell_type": "code",
   "execution_count": 16,
   "metadata": {},
   "outputs": [
    {
     "data": {
      "text/plain": [
       "5.687103594080338"
      ]
     },
     "execution_count": 16,
     "metadata": {},
     "output_type": "execute_result"
    }
   ],
   "source": [
    "# Get the cheapest beer, in Price Per Liter\n",
    "cheapest_beer_price = df_ranked.iloc[0]['Price Per Liter']\n",
    "cheapest_beer_price"
   ]
  },
  {
   "cell_type": "code",
   "execution_count": 17,
   "metadata": {},
   "outputs": [
    {
     "data": {
      "text/plain": [
       "17.061310782241016"
      ]
     },
     "execution_count": 17,
     "metadata": {},
     "output_type": "execute_result"
    }
   ],
   "source": [
    "# Define the threshold for the max price of the brands cheapest beer. If it is above this, the brand is considered expensive\n",
    "threshold = cheapest_beer_price*3\n",
    "threshold"
   ]
  },
  {
   "cell_type": "code",
   "execution_count": 18,
   "metadata": {},
   "outputs": [],
   "source": [
    "expensive_brands = list(df_ranked[df_ranked['Price Per Liter']> threshold].index)"
   ]
  },
  {
   "cell_type": "code",
   "execution_count": 19,
   "metadata": {},
   "outputs": [
    {
     "data": {
      "text/plain": [
       "['Cervejaria Bohemia',\n",
       " 'Hoegaarden',\n",
       " 'Farra Bier',\n",
       " 'Patagonia',\n",
       " 'Noi',\n",
       " 'Flamingo',\n",
       " 'Motim',\n",
       " 'Goose Island',\n",
       " 'Kona',\n",
       " 'Overhop',\n",
       " 'Hocus Pocus',\n",
       " 'Leffe',\n",
       " 'Three Monkeys',\n",
       " 'Franziskaner']"
      ]
     },
     "execution_count": 19,
     "metadata": {},
     "output_type": "execute_result"
    }
   ],
   "source": [
    "list(expensive_brands)"
   ]
  },
  {
   "cell_type": "code",
   "execution_count": 21,
   "metadata": {},
   "outputs": [
    {
     "name": "stdout",
     "output_type": "stream",
     "text": [
      "In the time this analysis was made, from the 29 brands available in the website, 14 were considered expensive.\n",
      "This means we can expect the time spent in the \"scrape_data\" function to reduce by half (approx.) when\n",
      "removing the expensive brands.\n",
      "\n"
     ]
    }
   ],
   "source": [
    "print(f'''In the time this analysis was made, from the {len(beer_scraper.available_brands)} brands available in the website, {len(expensive_brands)} were considered expensive.\n",
    "This means we can expect the time spent in the \"scrape_data\" function to reduce by half (approx.) when\n",
    "removing the expensive brands.\n",
    "''')"
   ]
  },
  {
   "cell_type": "markdown",
   "metadata": {},
   "source": [
    "#### Limitations"
   ]
  },
  {
   "cell_type": "markdown",
   "metadata": {},
   "source": [
    "This analisys was based in a snapshot of the beers available at a fixed date (13/05/2021). The beer prices change overtime, and there are ocasional discounts, so it is possible that one of the brands that was labeled as \"expensive\" will eventually offer a beer that is within the defined threshold. However, by repeating this analysis a few times in different days and hours, the change was not very significant. Even if one of those brands can eventually offer a cheaper beer, its price can never compete with the cheapest brands."
   ]
  },
  {
   "cell_type": "markdown",
   "metadata": {},
   "source": [
    "# Improved Class"
   ]
  },
  {
   "cell_type": "markdown",
   "metadata": {},
   "source": [
    "Let's change the class and run the scraper again, to see how the perfomance changes."
   ]
  },
  {
   "cell_type": "code",
   "execution_count": 43,
   "metadata": {},
   "outputs": [],
   "source": [
    "class BeerScraperImproved:\n",
    "    def __init__(self):\n",
    "        self.driver = None\n",
    "        self.email = None\n",
    "        self.password = None\n",
    "        self.available_brands = []\n",
    "        self.prices = []\n",
    "        self.products = []\n",
    "        self.brands = []\n",
    "        self.df = None\n",
    "        self.expensive_brands = ['Cervejaria Bohemia','Hoegaarden','Farra Bier','Patagonia','Noi','Flamingo','Wäls','Motim',\n",
    "                                 'Goose Island','Kona','Overhop','Hocus Pocus','Leffe','Three Monkeys','Franziskaner']\n",
    "        # Filters\n",
    "        self.wanted_brands = []\n",
    "        self.unwanted_brands = []\n",
    "        self.returnable = ['Yes','No']\n",
    "        self.max_mls = 99999\n",
    "        self.filtered_df = None\n",
    "        \n",
    "    def build_driver(self):\n",
    "        options = Options()\n",
    "        options.add_argument('--headless')\n",
    "        options.add_argument('--disable-gpu')\n",
    "        self.driver = webdriver.Chrome(options=options)\n",
    "    \n",
    "    def login(self):\n",
    "        # Login details\n",
    "        login_url = 'https://www.ze.delivery/conta/entrar'\n",
    "        self.email = \"brunoprates@poli.ufrj.br\" ############### Mudar depois\n",
    "        self.password = \"ze123456\"\n",
    "        \n",
    "        # Enter login details in form\n",
    "        self.driver.get(login_url)\n",
    "        self.driver.implicitly_wait(6)\n",
    "        self.driver.find_element_by_xpath(\"\"\"//*[@id=\"login-mail-input-email\"]\"\"\").send_keys(self.email)\n",
    "        self.driver.find_element_by_xpath(\"\"\"//*[@id=\"login-mail-input-password\"]\"\"\").send_keys(self.password)\n",
    "\n",
    "        # Press sign in button\n",
    "        button = self.driver.find_element_by_xpath(\"\"\"//*[@id=\"login-mail-button-sign-in\"]\"\"\")\n",
    "        self.driver.execute_script(\"arguments[0].click();\", button)\n",
    "        time.sleep(3) # Wait a couple seconds to complete the sign in\n",
    "        \n",
    "    def get_available_brands(self):\n",
    "        url_brands = 'https://www.ze.delivery/produtos/categoria/cervejas'\n",
    "        self.driver.get(url_brands)\n",
    "        soup = BeautifulSoup(self.driver.page_source, \"html.parser\")\n",
    "        available_brands_html = soup.find_all(\"h2\", class_=\"css-l9heuk-shelfTitle\")\n",
    "        self.available_brands = [brand_html.text for brand_html in available_brands_html]\n",
    "        \n",
    "    def scrape_data(self):\n",
    "        for brand in self.available_brands:\n",
    "            if brand not in self.expensive_brands:\n",
    "                #Get page HTML\n",
    "                url = get_url(brand)\n",
    "                self.driver.get(url)\n",
    "                soup = BeautifulSoup(self.driver.page_source, \"html.parser\")\n",
    "\n",
    "                #Find products and add to instance variable\n",
    "                products_html = soup.find_all(\"h3\", class_=\"css-krg860-productTitle\")\n",
    "                for product in products_html:\n",
    "                    self.products.append(product.text)\n",
    "\n",
    "                #Find prices and add to instance variable.\n",
    "                prices_html = soup.find_all(\"div\", class_=\"css-t89dhz-priceText\")\n",
    "                for price in prices_html:\n",
    "                    self.prices.append(handle_price(price))\n",
    "                    self.brands.append(brand) # Leverage the for loop to include brand names\n",
    "    \n",
    "    def create_df(self):\n",
    "        self.df = pd.DataFrame(list(zip(self.products,self.prices,self.brands)),columns=['Product','Price','Brand'])\n",
    "        self.df['Mls'] = self.df['Product'].map(get_mls)\n",
    "        self.df['Price Per Liter'] = self.df['Price']/self.df['Mls']*1000\n",
    "        self.df['Returnable'] = self.df['Product'].map(is_returnable)\n",
    "        # Sort\n",
    "        self.df = self.df.sort_values('Price Per Liter')\n",
    "    \n",
    "    def set_filters(self,wb=[],ub=[],r=['Yes','No'],mm=99999):\n",
    "        self.wanted_brands = wb\n",
    "        self.unwanted_brands = ub\n",
    "        self.returnable = r\n",
    "        self.max_mls = mm\n",
    "        \n",
    "    def apply_filters(self):\n",
    "        # Conditions\n",
    "        c0 = self.df['Brand'].isin(self.wanted_brands) if len(self.wanted_brands)>0 else self.df['Brand']==self.df['Brand']\n",
    "        c1 = np.logical_not(self.df['Brand'].isin(self.unwanted_brands))\n",
    "        c2 = self.df['Returnable'].isin(self.returnable)\n",
    "        c3 = self.df['Mls']<=self.max_mls\n",
    "        combined_cond = c0&c1&c2&c3\n",
    "        # Apply condition\n",
    "        self.filtered_df = self.df[combined_cond]\n",
    "        self.filtered_df.reset_index(drop=True, inplace=True)"
   ]
  },
  {
   "cell_type": "code",
   "execution_count": 7,
   "metadata": {},
   "outputs": [],
   "source": [
    "beer_scraper_2 = BeerScraperImproved()"
   ]
  },
  {
   "cell_type": "code",
   "execution_count": 8,
   "metadata": {},
   "outputs": [
    {
     "name": "stdout",
     "output_type": "stream",
     "text": [
      "CPU times: user 26.5 ms, sys: 7.92 ms, total: 34.4 ms\n",
      "Wall time: 1.36 s\n"
     ]
    }
   ],
   "source": [
    "%%time\n",
    "beer_scraper_2.build_driver()"
   ]
  },
  {
   "cell_type": "code",
   "execution_count": 9,
   "metadata": {},
   "outputs": [
    {
     "name": "stdout",
     "output_type": "stream",
     "text": [
      "CPU times: user 25.6 ms, sys: 0 ns, total: 25.6 ms\n",
      "Wall time: 8.44 s\n"
     ]
    }
   ],
   "source": [
    "%%time\n",
    "beer_scraper_2.login()"
   ]
  },
  {
   "cell_type": "code",
   "execution_count": 10,
   "metadata": {},
   "outputs": [
    {
     "name": "stdout",
     "output_type": "stream",
     "text": [
      "CPU times: user 189 ms, sys: 15.5 ms, total: 204 ms\n",
      "Wall time: 14.2 s\n"
     ]
    }
   ],
   "source": [
    "%%time\n",
    "beer_scraper_2.get_available_brands()"
   ]
  },
  {
   "cell_type": "code",
   "execution_count": 11,
   "metadata": {},
   "outputs": [
    {
     "name": "stdout",
     "output_type": "stream",
     "text": [
      "CPU times: user 529 ms, sys: 910 µs, total: 529 ms\n",
      "Wall time: 53.3 s\n"
     ]
    }
   ],
   "source": [
    "%%time\n",
    "beer_scraper_2.scrape_data()"
   ]
  },
  {
   "cell_type": "code",
   "execution_count": 12,
   "metadata": {},
   "outputs": [
    {
     "name": "stdout",
     "output_type": "stream",
     "text": [
      "CPU times: user 26.7 ms, sys: 12.8 ms, total: 39.5 ms\n",
      "Wall time: 42.7 ms\n"
     ]
    }
   ],
   "source": [
    "%%time\n",
    "beer_scraper_2.create_df()\n",
    "beer_scraper_2.set_filters()\n",
    "beer_scraper_2.apply_filters()"
   ]
  },
  {
   "cell_type": "markdown",
   "metadata": {},
   "source": [
    "As expected, the 'scrape_data' function ran in about half of the original time. Running everything and getting the final dataframe still takes a bit more than 1 minute, which is quite long, but acceptable."
   ]
  },
  {
   "cell_type": "markdown",
   "metadata": {},
   "source": [
    "#### Transforming df to json"
   ]
  },
  {
   "cell_type": "code",
   "execution_count": 14,
   "metadata": {},
   "outputs": [],
   "source": [
    "df = beer_scraper_2.filtered_df"
   ]
  },
  {
   "cell_type": "code",
   "execution_count": 49,
   "metadata": {},
   "outputs": [
    {
     "data": {
      "text/plain": [
       "('Antarctica Subzero 473ml', 2.69)"
      ]
     },
     "execution_count": 49,
     "metadata": {},
     "output_type": "execute_result"
    }
   ],
   "source": [
    "result = df.to_json()\n",
    "parsed = json.loads(result)\n",
    "parsed['Product']['0'], parsed['Price']['0']"
   ]
  },
  {
   "cell_type": "markdown",
   "metadata": {},
   "source": [
    "# To-do"
   ]
  },
  {
   "cell_type": "markdown",
   "metadata": {},
   "source": [
    "- Choose address\n",
    "- Encrypt password"
   ]
  },
  {
   "cell_type": "code",
   "execution_count": 53,
   "metadata": {},
   "outputs": [
    {
     "data": {
      "text/plain": [
       "{'Product': {'0': 'Antarctica Subzero 473ml',\n",
       "  '1': 'Antarctica Pilsen 1L | Apenas o líquido',\n",
       "  '2': 'Skol Puro Malte 473ml',\n",
       "  '3': 'Skol 473ml',\n",
       "  '4': 'Skol Puro Malte 350ml',\n",
       "  '5': 'Skol 350ml',\n",
       "  '6': 'Antarctica Pilsen 300ml | Apenas o Líquido',\n",
       "  '7': 'Antarctica Pilsen 269ml',\n",
       "  '8': 'Brahma Chopp 269ml',\n",
       "  '9': 'Brahma Chopp 1L | Apenas o Líquido - Unidade',\n",
       "  '10': 'Antarctica Pilsen 473ml',\n",
       "  '11': 'Antarctica Pilsen 350ml',\n",
       "  '12': 'Bohemia 350ml',\n",
       "  '13': 'Brahma Malzbier 350ml',\n",
       "  '14': 'Brahma Chopp 350ml',\n",
       "  '15': 'Skol 269ml',\n",
       "  '16': 'Brahma Chopp 473ml',\n",
       "  '17': 'Bohemia 473ml',\n",
       "  '18': 'Brahma Chopp 300ml | Apenas o Líquido',\n",
       "  '19': 'Skol Puro Malte 269ml',\n",
       "  '20': 'Bohemia 269ml',\n",
       "  '21': 'Antarctica Pilsen 600ml | Apenas o Líquido',\n",
       "  '22': 'Budweiser 473ml',\n",
       "  '23': 'Brahma Duplo Malte 350ml',\n",
       "  '24': 'Original 350ml',\n",
       "  '25': 'Serramalte 350ml',\n",
       "  '26': 'Budweiser 410ml',\n",
       "  '27': 'Brahma Malzbier 355ml',\n",
       "  '28': 'Brahma Chopp 355ml - Unidade',\n",
       "  '29': 'Skol 600ml | Apenas o Líquido',\n",
       "  '30': 'Brahma Zero 350ml - Unidade',\n",
       "  '31': 'Budweiser 269ml',\n",
       "  '32': 'Skol Puro Malte 600ml | Apenas o Líquido',\n",
       "  '33': 'Brahma Chopp 600ml | Apenas o Líquido - Unidade',\n",
       "  '34': 'Antarctica Pilsen 600ml | Vasilhame Incluso',\n",
       "  '35': 'Budweiser 350ml',\n",
       "  '36': 'Brahma Extra Lager 600ml',\n",
       "  '37': 'Stella Artois 350ml',\n",
       "  '38': 'Caracu 350ml',\n",
       "  '39': 'Brahma Duplo Malte 330ml',\n",
       "  '40': 'Bohemia 600ml | Apenas o Líquido',\n",
       "  '41': 'Stella Artois 269ml',\n",
       "  '42': 'Brahma Zero 355ml',\n",
       "  '43': 'Brahma Duplo Malte 600ml | Apenas o Líquido',\n",
       "  '44': 'Original 600ml | Apenas o Líquido',\n",
       "  '45': 'Budweiser 600ml | Apenas o Líquido',\n",
       "  '46': 'Serramalte 600ml | Apenas o Líquido',\n",
       "  '47': 'Budweiser 330ml',\n",
       "  '48': 'Brahma Chopp 600ml | Vasilhame Incluso - Unidade',\n",
       "  '49': 'Becks 350ml',\n",
       "  '50': 'Stella Artois 330ml',\n",
       "  '51': 'Colorado Ribeirão Lager 350ml',\n",
       "  '52': 'Budweiser 550ml | Vasilhame Incluso',\n",
       "  '53': 'Colorado Ribeirão Lager 410ml',\n",
       "  '54': 'Stella Artois 275ml',\n",
       "  '55': 'Stella Artois 550ml | Vasilhame Incluso',\n",
       "  '56': 'Colorado Ribeirão Lager Long Neck 355ml',\n",
       "  '57': 'Stella Artois Sem Glúten 330ml',\n",
       "  '58': 'Corona Extra 330ml',\n",
       "  '59': 'Becks 330ml',\n",
       "  '60': 'Becks 600ml | Vasilhame Incluso',\n",
       "  '61': 'Coronita 210ml',\n",
       "  '62': 'Colorado Ribeirão Lager 600ml',\n",
       "  '63': 'Colorado Appia 410ml',\n",
       "  '64': 'Colorado Appia 300ml',\n",
       "  '65': 'Colorado Appia 600ml',\n",
       "  '66': 'Colorado Cauim 600ml',\n",
       "  '67': 'Colorado Indica 600ml',\n",
       "  '68': 'Colorado Vixnu 600ml',\n",
       "  '69': 'Colorado Demoiselle 600ml',\n",
       "  '70': 'Cariocaholic Blonde 500ml'},\n",
       " 'Price': {'0': 2.69,\n",
       "  '1': 6.09,\n",
       "  '2': 2.99,\n",
       "  '3': 2.99,\n",
       "  '4': 2.29,\n",
       "  '5': 2.29,\n",
       "  '6': 1.99,\n",
       "  '7': 1.83,\n",
       "  '8': 1.87,\n",
       "  '9': 7.09,\n",
       "  '10': 3.49,\n",
       "  '11': 2.59,\n",
       "  '12': 2.69,\n",
       "  '13': 2.69,\n",
       "  '14': 2.69,\n",
       "  '15': 2.09,\n",
       "  '16': 3.69,\n",
       "  '17': 3.69,\n",
       "  '18': 2.39,\n",
       "  '19': 2.19,\n",
       "  '20': 2.29,\n",
       "  '21': 5.29,\n",
       "  '22': 4.29,\n",
       "  '23': 3.19,\n",
       "  '24': 3.19,\n",
       "  '25': 3.19,\n",
       "  '26': 3.79,\n",
       "  '27': 3.29,\n",
       "  '28': 3.29,\n",
       "  '29': 5.69,\n",
       "  '30': 3.39,\n",
       "  '31': 2.79,\n",
       "  '32': 6.29,\n",
       "  '33': 6.29,\n",
       "  '34': 6.29,\n",
       "  '35': 3.69,\n",
       "  '36': 6.49,\n",
       "  '37': 3.79,\n",
       "  '38': 3.79,\n",
       "  '39': 3.59,\n",
       "  '40': 6.59,\n",
       "  '41': 2.99,\n",
       "  '42': 3.99,\n",
       "  '43': 6.89,\n",
       "  '44': 7.19,\n",
       "  '45': 7.19,\n",
       "  '46': 7.19,\n",
       "  '47': 3.99,\n",
       "  '48': 7.29,\n",
       "  '49': 4.49,\n",
       "  '50': 4.49,\n",
       "  '51': 4.99,\n",
       "  '52': 7.99,\n",
       "  '53': 5.99,\n",
       "  '54': 4.19,\n",
       "  '55': 8.49,\n",
       "  '56': 5.69,\n",
       "  '57': 5.49,\n",
       "  '58': 5.49,\n",
       "  '59': 5.49,\n",
       "  '60': 9.99,\n",
       "  '61': 3.79,\n",
       "  '62': 11.69,\n",
       "  '63': 7.99,\n",
       "  '64': 5.99,\n",
       "  '65': 11.99,\n",
       "  '66': 15.99,\n",
       "  '67': 15.99,\n",
       "  '68': 15.99,\n",
       "  '69': 15.99,\n",
       "  '70': 16.9},\n",
       " 'Brand': {'0': 'Antarctica',\n",
       "  '1': 'Antarctica',\n",
       "  '2': 'Skol',\n",
       "  '3': 'Skol',\n",
       "  '4': 'Skol',\n",
       "  '5': 'Skol',\n",
       "  '6': 'Antarctica',\n",
       "  '7': 'Antarctica',\n",
       "  '8': 'Brahma',\n",
       "  '9': 'Brahma',\n",
       "  '10': 'Antarctica',\n",
       "  '11': 'Antarctica',\n",
       "  '12': 'Bohemia',\n",
       "  '13': 'Brahma',\n",
       "  '14': 'Brahma',\n",
       "  '15': 'Skol',\n",
       "  '16': 'Brahma',\n",
       "  '17': 'Bohemia',\n",
       "  '18': 'Brahma',\n",
       "  '19': 'Skol',\n",
       "  '20': 'Bohemia',\n",
       "  '21': 'Antarctica',\n",
       "  '22': 'Budweiser',\n",
       "  '23': 'Brahma',\n",
       "  '24': 'Original',\n",
       "  '25': 'Serramalte',\n",
       "  '26': 'Budweiser',\n",
       "  '27': 'Brahma',\n",
       "  '28': 'Brahma',\n",
       "  '29': 'Skol',\n",
       "  '30': 'Brahma',\n",
       "  '31': 'Budweiser',\n",
       "  '32': 'Skol',\n",
       "  '33': 'Brahma',\n",
       "  '34': 'Antarctica',\n",
       "  '35': 'Budweiser',\n",
       "  '36': 'Brahma',\n",
       "  '37': 'Stella Artois',\n",
       "  '38': 'Caracu',\n",
       "  '39': 'Brahma',\n",
       "  '40': 'Bohemia',\n",
       "  '41': 'Stella Artois',\n",
       "  '42': 'Brahma',\n",
       "  '43': 'Brahma',\n",
       "  '44': 'Original',\n",
       "  '45': 'Budweiser',\n",
       "  '46': 'Serramalte',\n",
       "  '47': 'Budweiser',\n",
       "  '48': 'Brahma',\n",
       "  '49': \"Beck's\",\n",
       "  '50': 'Stella Artois',\n",
       "  '51': 'Colorado',\n",
       "  '52': 'Budweiser',\n",
       "  '53': 'Colorado',\n",
       "  '54': 'Stella Artois',\n",
       "  '55': 'Stella Artois',\n",
       "  '56': 'Colorado',\n",
       "  '57': 'Stella Artois',\n",
       "  '58': 'Corona',\n",
       "  '59': \"Beck's\",\n",
       "  '60': \"Beck's\",\n",
       "  '61': 'Corona',\n",
       "  '62': 'Colorado',\n",
       "  '63': 'Colorado',\n",
       "  '64': 'Colorado',\n",
       "  '65': 'Colorado',\n",
       "  '66': 'Colorado',\n",
       "  '67': 'Colorado',\n",
       "  '68': 'Colorado',\n",
       "  '69': 'Colorado',\n",
       "  '70': '3Cariocas'},\n",
       " 'Mls': {'0': 473.0,\n",
       "  '1': 1000.0,\n",
       "  '2': 473.0,\n",
       "  '3': 473.0,\n",
       "  '4': 350.0,\n",
       "  '5': 350.0,\n",
       "  '6': 300.0,\n",
       "  '7': 269.0,\n",
       "  '8': 269.0,\n",
       "  '9': 1000.0,\n",
       "  '10': 473.0,\n",
       "  '11': 350.0,\n",
       "  '12': 350.0,\n",
       "  '13': 350.0,\n",
       "  '14': 350.0,\n",
       "  '15': 269.0,\n",
       "  '16': 473.0,\n",
       "  '17': 473.0,\n",
       "  '18': 300.0,\n",
       "  '19': 269.0,\n",
       "  '20': 269.0,\n",
       "  '21': 600.0,\n",
       "  '22': 473.0,\n",
       "  '23': 350.0,\n",
       "  '24': 350.0,\n",
       "  '25': 350.0,\n",
       "  '26': 410.0,\n",
       "  '27': 355.0,\n",
       "  '28': 355.0,\n",
       "  '29': 600.0,\n",
       "  '30': 350.0,\n",
       "  '31': 269.0,\n",
       "  '32': 600.0,\n",
       "  '33': 600.0,\n",
       "  '34': 600.0,\n",
       "  '35': 350.0,\n",
       "  '36': 600.0,\n",
       "  '37': 350.0,\n",
       "  '38': 350.0,\n",
       "  '39': 330.0,\n",
       "  '40': 600.0,\n",
       "  '41': 269.0,\n",
       "  '42': 355.0,\n",
       "  '43': 600.0,\n",
       "  '44': 600.0,\n",
       "  '45': 600.0,\n",
       "  '46': 600.0,\n",
       "  '47': 330.0,\n",
       "  '48': 600.0,\n",
       "  '49': 350.0,\n",
       "  '50': 330.0,\n",
       "  '51': 350.0,\n",
       "  '52': 550.0,\n",
       "  '53': 410.0,\n",
       "  '54': 275.0,\n",
       "  '55': 550.0,\n",
       "  '56': 355.0,\n",
       "  '57': 330.0,\n",
       "  '58': 330.0,\n",
       "  '59': 330.0,\n",
       "  '60': 600.0,\n",
       "  '61': 210.0,\n",
       "  '62': 600.0,\n",
       "  '63': 410.0,\n",
       "  '64': 300.0,\n",
       "  '65': 600.0,\n",
       "  '66': 600.0,\n",
       "  '67': 600.0,\n",
       "  '68': 600.0,\n",
       "  '69': 600.0,\n",
       "  '70': 500.0},\n",
       " 'Price Per Liter': {'0': 5.6871035941,\n",
       "  '1': 6.09,\n",
       "  '2': 6.3213530655,\n",
       "  '3': 6.3213530655,\n",
       "  '4': 6.5428571429,\n",
       "  '5': 6.5428571429,\n",
       "  '6': 6.6333333333,\n",
       "  '7': 6.8029739777,\n",
       "  '8': 6.9516728625,\n",
       "  '9': 7.09,\n",
       "  '10': 7.378435518,\n",
       "  '11': 7.4,\n",
       "  '12': 7.6857142857,\n",
       "  '13': 7.6857142857,\n",
       "  '14': 7.6857142857,\n",
       "  '15': 7.7695167286,\n",
       "  '16': 7.8012684989,\n",
       "  '17': 7.8012684989,\n",
       "  '18': 7.9666666667,\n",
       "  '19': 8.1412639405,\n",
       "  '20': 8.5130111524,\n",
       "  '21': 8.8166666667,\n",
       "  '22': 9.0697674419,\n",
       "  '23': 9.1142857143,\n",
       "  '24': 9.1142857143,\n",
       "  '25': 9.1142857143,\n",
       "  '26': 9.243902439,\n",
       "  '27': 9.2676056338,\n",
       "  '28': 9.2676056338,\n",
       "  '29': 9.4833333333,\n",
       "  '30': 9.6857142857,\n",
       "  '31': 10.3717472119,\n",
       "  '32': 10.4833333333,\n",
       "  '33': 10.4833333333,\n",
       "  '34': 10.4833333333,\n",
       "  '35': 10.5428571429,\n",
       "  '36': 10.8166666667,\n",
       "  '37': 10.8285714286,\n",
       "  '38': 10.8285714286,\n",
       "  '39': 10.8787878788,\n",
       "  '40': 10.9833333333,\n",
       "  '41': 11.1152416357,\n",
       "  '42': 11.2394366197,\n",
       "  '43': 11.4833333333,\n",
       "  '44': 11.9833333333,\n",
       "  '45': 11.9833333333,\n",
       "  '46': 11.9833333333,\n",
       "  '47': 12.0909090909,\n",
       "  '48': 12.15,\n",
       "  '49': 12.8285714286,\n",
       "  '50': 13.6060606061,\n",
       "  '51': 14.2571428571,\n",
       "  '52': 14.5272727273,\n",
       "  '53': 14.6097560976,\n",
       "  '54': 15.2363636364,\n",
       "  '55': 15.4363636364,\n",
       "  '56': 16.0281690141,\n",
       "  '57': 16.6363636364,\n",
       "  '58': 16.6363636364,\n",
       "  '59': 16.6363636364,\n",
       "  '60': 16.65,\n",
       "  '61': 18.0476190476,\n",
       "  '62': 19.4833333333,\n",
       "  '63': 19.487804878,\n",
       "  '64': 19.9666666667,\n",
       "  '65': 19.9833333333,\n",
       "  '66': 26.65,\n",
       "  '67': 26.65,\n",
       "  '68': 26.65,\n",
       "  '69': 26.65,\n",
       "  '70': 33.8},\n",
       " 'Returnable': {'0': 'No',\n",
       "  '1': 'Yes',\n",
       "  '2': 'No',\n",
       "  '3': 'No',\n",
       "  '4': 'No',\n",
       "  '5': 'No',\n",
       "  '6': 'Yes',\n",
       "  '7': 'No',\n",
       "  '8': 'No',\n",
       "  '9': 'Yes',\n",
       "  '10': 'No',\n",
       "  '11': 'No',\n",
       "  '12': 'No',\n",
       "  '13': 'No',\n",
       "  '14': 'No',\n",
       "  '15': 'No',\n",
       "  '16': 'No',\n",
       "  '17': 'No',\n",
       "  '18': 'Yes',\n",
       "  '19': 'No',\n",
       "  '20': 'No',\n",
       "  '21': 'Yes',\n",
       "  '22': 'No',\n",
       "  '23': 'No',\n",
       "  '24': 'No',\n",
       "  '25': 'No',\n",
       "  '26': 'No',\n",
       "  '27': 'No',\n",
       "  '28': 'No',\n",
       "  '29': 'Yes',\n",
       "  '30': 'No',\n",
       "  '31': 'No',\n",
       "  '32': 'Yes',\n",
       "  '33': 'Yes',\n",
       "  '34': 'No',\n",
       "  '35': 'No',\n",
       "  '36': 'No',\n",
       "  '37': 'No',\n",
       "  '38': 'No',\n",
       "  '39': 'No',\n",
       "  '40': 'Yes',\n",
       "  '41': 'No',\n",
       "  '42': 'No',\n",
       "  '43': 'Yes',\n",
       "  '44': 'Yes',\n",
       "  '45': 'Yes',\n",
       "  '46': 'Yes',\n",
       "  '47': 'No',\n",
       "  '48': 'No',\n",
       "  '49': 'No',\n",
       "  '50': 'No',\n",
       "  '51': 'No',\n",
       "  '52': 'No',\n",
       "  '53': 'No',\n",
       "  '54': 'No',\n",
       "  '55': 'No',\n",
       "  '56': 'No',\n",
       "  '57': 'No',\n",
       "  '58': 'No',\n",
       "  '59': 'No',\n",
       "  '60': 'No',\n",
       "  '61': 'No',\n",
       "  '62': 'No',\n",
       "  '63': 'No',\n",
       "  '64': 'No',\n",
       "  '65': 'No',\n",
       "  '66': 'No',\n",
       "  '67': 'No',\n",
       "  '68': 'No',\n",
       "  '69': 'No',\n",
       "  '70': 'No'}}"
      ]
     },
     "execution_count": 53,
     "metadata": {},
     "output_type": "execute_result"
    }
   ],
   "source": [
    "json.loads(df.to_json())"
   ]
  },
  {
   "cell_type": "code",
   "execution_count": null,
   "metadata": {},
   "outputs": [],
   "source": []
  }
 ],
 "metadata": {
  "kernelspec": {
   "display_name": "Python 3",
   "language": "python",
   "name": "python3"
  },
  "language_info": {
   "codemirror_mode": {
    "name": "ipython",
    "version": 3
   },
   "file_extension": ".py",
   "mimetype": "text/x-python",
   "name": "python",
   "nbconvert_exporter": "python",
   "pygments_lexer": "ipython3",
   "version": "3.8.6"
  }
 },
 "nbformat": 4,
 "nbformat_minor": 5
}
